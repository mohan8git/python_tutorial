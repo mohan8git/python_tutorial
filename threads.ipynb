{
 "cells": [
  {
   "cell_type": "code",
   "execution_count": 1,
   "metadata": {},
   "outputs": [
    {
     "name": "stdout",
     "output_type": "stream",
     "text": [
      "1552881169.1081192\n",
      "Mon Mar 18 09:22:49 2019\n",
      "End\n"
     ]
    }
   ],
   "source": [
    "#Introduce delays\n",
    "import time\n",
    "print(time.time())\n",
    "print(time.ctime(time.time()))\n",
    "time.sleep(5)\n",
    "print(\"End\")\n"
   ]
  },
  {
   "cell_type": "code",
   "execution_count": 2,
   "metadata": {},
   "outputs": [
    {
     "name": "stdout",
     "output_type": "stream",
     "text": [
      "Thread-1: Mon Mar 18 09:24:33 2019\n",
      "Thread-2: Mon Mar 18 09:24:35 2019\n",
      "Thread-1: Mon Mar 18 09:24:35 2019\n",
      "Thread-1: Mon Mar 18 09:24:37 2019\n",
      "Thread-2: Mon Mar 18 09:24:39 2019\n",
      "Thread-1: Mon Mar 18 09:24:39 2019\n",
      "Thread-1: Mon Mar 18 09:24:41 2019\n",
      "Thread-2: Mon Mar 18 09:24:43 2019\n",
      "Thread-2: Mon Mar 18 09:24:47 2019\n",
      "Thread-2: Mon Mar 18 09:24:51 2019\n"
     ]
    }
   ],
   "source": [
    "import _thread as thread\n",
    "import time\n",
    "\n",
    "# Define a function for the thread\n",
    "def print_time(threadName, delay):\n",
    "    count = 0\n",
    "    while count < 5:\n",
    "        time.sleep(delay)\n",
    "        count += 1\n",
    "        print (\"%s: %s\" % (threadName, time.ctime(time.time())))\n",
    "\n",
    "# Create two threads as follows\n",
    "try:\n",
    "    thread.start_new_thread( print_time, (\"Thread-1\", 2, ) )\n",
    "    thread.start_new_thread( print_time, (\"Thread-2\", 4, ) )\n",
    "except:\n",
    "    print (\"Error: unable to start thread\")"
   ]
  },
  {
   "cell_type": "code",
   "execution_count": 4,
   "metadata": {},
   "outputs": [
    {
     "name": "stdout",
     "output_type": "stream",
     "text": [
      "Starting Thread-1\n",
      "Starting Thread-2\n",
      "Thread-2: Mon Mar 18 09:27:43 2019\n",
      "Thread-1: Mon Mar 18 09:27:44 2019\n",
      "Thread-2: Mon Mar 18 09:27:44 2019\n",
      "Thread-2: Mon Mar 18 09:27:45 2019\n",
      "Exiting Thread-2\n",
      "Thread-1: Mon Mar 18 09:27:46 2019\n",
      "Exiting Thread-1\n",
      "Exiting Main Thread\n"
     ]
    }
   ],
   "source": [
    "import threading\n",
    "import time\n",
    "\n",
    "def print_time(threadName, counter, delay):\n",
    "   while counter:\n",
    "      time.sleep(delay)\n",
    "      print (\"%s: %s\" % (threadName, time.ctime(time.time())))\n",
    "      counter -= 1\n",
    "\n",
    "class myThread (threading.Thread):\n",
    "    def __init__(self, name, counter,delay):\n",
    "        threading.Thread.__init__(self)\n",
    "        self.name = name\n",
    "        self.counter = counter\n",
    "        self.delay = delay\n",
    "    def run(self):\n",
    "        print( \"Starting \" + self.name)\n",
    "        print_time(self.name, self.counter, self.delay)\n",
    "        print (\"Exiting \" + self.name)\n",
    "\n",
    "# Create new threads\n",
    "thread1 = myThread(\"Thread-1\", 2,2)\n",
    "thread2 = myThread(\"Thread-2\", 3,1)\n",
    "\n",
    "# Start new Threads\n",
    "thread1.start()\n",
    "thread2.start()\n",
    "\n",
    "#Parent Wait till all children finish\n",
    "thread1.join()\n",
    "thread2.join()\n",
    "\n",
    "print (\"Exiting Main Thread\")"
   ]
  },
  {
   "cell_type": "code",
   "execution_count": null,
   "metadata": {},
   "outputs": [],
   "source": [
    "# Synchronizing thread\n",
    "import threading\n",
    "import time\n",
    "\n",
    "def print_time(threadName, delay, counter):\n",
    "    while counter:\n",
    "        time.sleep(delay)\n",
    "        print (\"%s: %s\" % (threadName, time.ctime(time.time())))\n",
    "        counter -= 1\n",
    "\n",
    "class myThread (threading.Thread):\n",
    "    def __init__(self, name, counter,delay):\n",
    "        threading.Thread.__init__(self)\n",
    "        self.name = name\n",
    "        self.counter = counter\n",
    "        self.delay = delay  \n",
    "    def run(self):\n",
    "        print (\"Starting \" + self.name)\n",
    "        # Get lock to synchronize threads\n",
    "        threadLock.acquire()\n",
    "        print_time(self.name, self.counter, self.delay)\n",
    "        # Free lock to release next thread\n",
    "        threadLock.release()\n",
    "\n",
    "threadLock = threading.Lock()\n",
    "threads = []\n",
    "\n",
    "# Create new threads\n",
    "thread1 = myThread(\"Thread-1\", 1,3)\n",
    "thread2 = myThread(\"Thread-2\", 2,5)\n",
    "\n",
    "# Start new Threads\n",
    "thread1.start()\n",
    "thread2.start()\n",
    "\n",
    "# Add threads to thread list\n",
    "threads.append(thread1)\n",
    "threads.append(thread2)\n",
    "\n",
    "# Wait for all threads to complete\n",
    "for t in threads:\n",
    "    t.join()\n",
    "print (\"Exiting Main Thread\")"
   ]
  },
  {
   "cell_type": "code",
   "execution_count": 7,
   "metadata": {},
   "outputs": [
    {
     "name": "stdout",
     "output_type": "stream",
     "text": [
      "Consumer Thread processing appleConsumer Thread processing orange\n",
      "Consumer Thread processing guava\n",
      "Consumer Thread processing rose\n",
      "\n"
     ]
    }
   ],
   "source": [
    "import _thread as thread\n",
    "import time\n",
    "import queue\n",
    "\n",
    "no_of_producers = 2\n",
    "no_of_consumers = 4\n",
    "\n",
    "workQueue = queue.Queue(maxsize=10)#Create a queue\n",
    "\n",
    "inp_to_queue = [['apple','orange','guava'],['rose','jasmine','lilly']]\n",
    "threads=[]\n",
    "\n",
    "def producer(threadName,indx):\n",
    "    lst = inp_to_queue[indx]\n",
    "    for word in lst:\n",
    "        workQueue.put(word)#Insert into queue\n",
    "\n",
    "def consumer(threadName):\n",
    "    if not workQueue.empty():\n",
    "        data = workQueue.get()#Read from queue FIFO\n",
    "        print (\"%s processing %s\" % (threadName, data))\n",
    "        time.sleep(1)\n",
    "\n",
    "for i in range(no_of_producers):\n",
    "    thread.start_new_thread(producer, (\"Producer Thread\", i))\n",
    "for j in range(no_of_consumers):\n",
    "    thread.start_new_thread(consumer, (\"Consumer Thread\",))"
   ]
  },
  {
   "cell_type": "code",
   "execution_count": null,
   "metadata": {},
   "outputs": [],
   "source": [
    "import queue\n",
    "import threading\n",
    "import time\n",
    "\n",
    "def put_data(threadName,indx):\n",
    "    lst = inp_to_queue[indx]\n",
    "    for word in lst:\n",
    "        workQueue.put(word)\n",
    "\n",
    "class putThread (threading.Thread):\n",
    "    def __init__(self, lstID, name):\n",
    "        threading.Thread.__init__(self)\n",
    "        self.threadID = lstID\n",
    "        self.name = name\n",
    "    def run(self):\n",
    "        print (\"Starting \" + self.name+str(self.threadID))\n",
    "        put_data(self.name,self.threadID)\n",
    "        #print (\"Exiting \" + self.name)\n",
    "\n",
    "def get_data(threadName):\n",
    "    if not workQueue.empty():\n",
    "        data = workQueue.get()\n",
    "        print (\"%s processing %s\" % (threadName, data))\n",
    "        time.sleep(1)\n",
    "\n",
    "class getThread (threading.Thread):\n",
    "    def __init__(self, threadID, name):\n",
    "        threading.Thread.__init__(self)\n",
    "        self.threadID = threadID\n",
    "        self.name = name\n",
    "    def run(self):\n",
    "        print (\"Starting \" + self.name+str(self.threadID))\n",
    "        get_data(self.name)\n",
    "        #print (\"Exiting \" + self.name)"
   ]
  },
  {
   "cell_type": "code",
   "execution_count": null,
   "metadata": {},
   "outputs": [],
   "source": [
    "no_of_producers = 2\n",
    "no_of_consumers = 4\n",
    "\n",
    "workQueue = queue.Queue(maxsize=10)\n",
    "\n",
    "inp_to_queue = [['apple','orange','guava'],['rose','jasmine','lilly']]\n",
    "threads=[]\n",
    "\n",
    "for i in range(no_of_producers):\n",
    "    th_inp = putThread(i,\"Put\")\n",
    "    threads.append(th_inp)\n",
    "    th_inp.start()\n",
    "\n",
    "for j in range(no_of_consumers):\n",
    "    th_op = getThread(j,\"Get\")\n",
    "    threads.append(th_op)\n",
    "    th_op.start()\n",
    "\n",
    "# Wait for all threads to complete\n",
    "for t in threads:\n",
    "    t.join()\n",
    "print (\"Exiting Main Thread\")"
   ]
  },
  {
   "cell_type": "code",
   "execution_count": null,
   "metadata": {
    "collapsed": true
   },
   "outputs": [],
   "source": []
  }
 ],
 "metadata": {
  "anaconda-cloud": {},
  "kernelspec": {
   "display_name": "Python 3",
   "language": "python",
   "name": "python3"
  },
  "language_info": {
   "codemirror_mode": {
    "name": "ipython",
    "version": 3
   },
   "file_extension": ".py",
   "mimetype": "text/x-python",
   "name": "python",
   "nbconvert_exporter": "python",
   "pygments_lexer": "ipython3",
   "version": "3.7.3"
  }
 },
 "nbformat": 4,
 "nbformat_minor": 2
}
