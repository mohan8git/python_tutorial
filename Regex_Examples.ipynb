{
 "cells": [
  {
   "cell_type": "code",
   "execution_count": null,
   "metadata": {
    "collapsed": true
   },
   "outputs": [],
   "source": [
    "Meta Characters\n",
    "\n",
    ". (a period) matches any single character except newline 'n'\n",
    "\n",
    "w\n",
    "matches a \"word\" character: a letter or digit or underbar [a-zA-Z0-9_]\n",
    "It only matches a single character not a whole word\n",
    "\n",
    "W matches any non-word character\n",
    "\n",
    "w+ matches one or more words / characters\n",
    "\n",
    "s matches a single whitespace character, space, newline, return, tab, form\n",
    "\n",
    "S matches any non-whitespace character.\n",
    "\n",
    "D matches anything but a digit\n",
    "\n",
    "d matches a decimal digit [0-9]\n",
    "\n",
    "d{1,5} matches a digit between 1 and 5 in lengths.\n",
    "\n",
    "{n} d{5} matches for 5 digits in a row\n",
    "\n",
    "^ match the start of the string\n",
    "\n",
    "$ match the of the string end\n",
    "\n",
    "* matches 0 or more repetitions\n",
    "+ matches 1 or more repetitions\n",
    "\n",
    "? matches 0 or 1 characters of whatever precedes it\n",
    "\n",
    "use . to match a period or to match a slash.\n",
    "\n",
    "If you are unsure if a character has special meaning, such as '@', you can put a slash in front of it, @, to make sure it is treated just as a character."
   ]
  },
  {
   "cell_type": "markdown",
   "metadata": {},
   "source": [
    "### Regular Expressions Examples"
   ]
  },
  {
   "cell_type": "code",
   "execution_count": 1,
   "metadata": {},
   "outputs": [
    {
     "name": "stdout",
     "output_type": "stream",
     "text": [
      "('hari  ',)\n"
     ]
    }
   ],
   "source": [
    "#match\n",
    "import re\n",
    "#pt = \"(.*)priya\"\n",
    "pt = \"(.*?)priya\"\n",
    "#st = \"hari \"\n",
    "#st = \"hari  priya\"\n",
    "st = \"hari  priya hello hari priya hello\"#Greedy \n",
    "res = re.match(pt,st)\n",
    "print(res.groups())#you can also retrieve one by one starting from group(1), group(2) and so on"
   ]
  },
  {
   "cell_type": "code",
   "execution_count": 2,
   "metadata": {},
   "outputs": [
    {
     "name": "stdout",
     "output_type": "stream",
     "text": [
      "('222',)\n"
     ]
    }
   ],
   "source": [
    "#Only at the beginning\n",
    "s = re.match(\"([0-9]{3})-[0-9]{3}-[0-9]{3}\",\"222-789-098 this is as sample 222-890-900\")\n",
    "print(s.groups())"
   ]
  },
  {
   "cell_type": "code",
   "execution_count": 3,
   "metadata": {},
   "outputs": [
    {
     "ename": "AttributeError",
     "evalue": "'NoneType' object has no attribute 'groups'",
     "output_type": "error",
     "traceback": [
      "\u001b[1;31m---------------------------------------------------------------------------\u001b[0m",
      "\u001b[1;31mAttributeError\u001b[0m                            Traceback (most recent call last)",
      "\u001b[1;32m<ipython-input-3-0ba1d386c0c2>\u001b[0m in \u001b[0;36m<module>\u001b[1;34m\u001b[0m\n\u001b[0;32m      4\u001b[0m \u001b[1;31m#res = re.search(pt,st)\u001b[0m\u001b[1;33m\u001b[0m\u001b[1;33m\u001b[0m\u001b[1;33m\u001b[0m\u001b[0m\n\u001b[0;32m      5\u001b[0m \u001b[0mres\u001b[0m \u001b[1;33m=\u001b[0m \u001b[0mre\u001b[0m\u001b[1;33m.\u001b[0m\u001b[0mmatch\u001b[0m\u001b[1;33m(\u001b[0m\u001b[0mpt\u001b[0m\u001b[1;33m,\u001b[0m\u001b[0mst\u001b[0m\u001b[1;33m)\u001b[0m\u001b[1;33m\u001b[0m\u001b[1;33m\u001b[0m\u001b[0m\n\u001b[1;32m----> 6\u001b[1;33m \u001b[0mprint\u001b[0m\u001b[1;33m(\u001b[0m\u001b[0mres\u001b[0m\u001b[1;33m.\u001b[0m\u001b[0mgroups\u001b[0m\u001b[1;33m(\u001b[0m\u001b[1;33m)\u001b[0m\u001b[1;33m)\u001b[0m\u001b[1;33m\u001b[0m\u001b[1;33m\u001b[0m\u001b[0m\n\u001b[0m",
      "\u001b[1;31mAttributeError\u001b[0m: 'NoneType' object has no attribute 'groups'"
     ]
    }
   ],
   "source": [
    "#re.match vs re.search\n",
    "pt = \"([0-9]{3})-234-1234\"\n",
    "st = \"this occurs at last222-234-1234\"\n",
    "#res = re.search(pt,st)\n",
    "res = re.match(pt,st)\n",
    "print(res.groups())"
   ]
  },
  {
   "cell_type": "code",
   "execution_count": 46,
   "metadata": {},
   "outputs": [
    {
     "name": "stdout",
     "output_type": "stream",
     "text": [
      "('222',)\n"
     ]
    }
   ],
   "source": [
    "#re.search vs re.findall\n",
    "pt = \"([0-9]{3})-234-1234\"\n",
    "st = \"222-234-1234 this occurs agian 111-234-1234\"\n",
    "#res = re.findall(pt,st)\n",
    "#print(res)\n",
    "res = re.search(pt,st)\n",
    "print(res.groups())"
   ]
  },
  {
   "cell_type": "code",
   "execution_count": 48,
   "metadata": {},
   "outputs": [
    {
     "name": "stdout",
     "output_type": "stream",
     "text": [
      "1\n",
      "2\n",
      "3\n"
     ]
    },
    {
     "ename": "StopIteration",
     "evalue": "",
     "output_type": "error",
     "traceback": [
      "\u001b[0;31m---------------------------------------------------------------------------\u001b[0m",
      "\u001b[0;31mStopIteration\u001b[0m                             Traceback (most recent call last)",
      "\u001b[0;32m<ipython-input-48-b84a41343536>\u001b[0m in \u001b[0;36m<module>\u001b[0;34m()\u001b[0m\n\u001b[1;32m      4\u001b[0m \u001b[0mprint\u001b[0m\u001b[1;33m(\u001b[0m\u001b[0mI\u001b[0m\u001b[1;33m.\u001b[0m\u001b[0m__next__\u001b[0m\u001b[1;33m(\u001b[0m\u001b[1;33m)\u001b[0m\u001b[1;33m)\u001b[0m\u001b[1;33m\u001b[0m\u001b[0m\n\u001b[1;32m      5\u001b[0m \u001b[0mprint\u001b[0m\u001b[1;33m(\u001b[0m\u001b[0mI\u001b[0m\u001b[1;33m.\u001b[0m\u001b[0m__next__\u001b[0m\u001b[1;33m(\u001b[0m\u001b[1;33m)\u001b[0m\u001b[1;33m)\u001b[0m\u001b[1;33m\u001b[0m\u001b[0m\n\u001b[0;32m----> 6\u001b[0;31m \u001b[0mprint\u001b[0m\u001b[1;33m(\u001b[0m\u001b[0mI\u001b[0m\u001b[1;33m.\u001b[0m\u001b[0m__next__\u001b[0m\u001b[1;33m(\u001b[0m\u001b[1;33m)\u001b[0m\u001b[1;33m)\u001b[0m\u001b[1;33m\u001b[0m\u001b[0m\n\u001b[0m",
      "\u001b[0;31mStopIteration\u001b[0m: "
     ]
    }
   ],
   "source": [
    "L = [1, 2, 3]\n",
    "I = iter(L)  # Obtain an iterator object\n",
    "print(I.__next__())  # Call next to advance to next item\n",
    "print(I.__next__())\n",
    "print(I.__next__())\n",
    "print(I.__next__())"
   ]
  },
  {
   "cell_type": "code",
   "execution_count": null,
   "metadata": {},
   "outputs": [],
   "source": [
    "#re.findall vs re.finditer\n",
    "pt = \"([0-9]{3})-234-1234\"\n",
    "st = \"222-234-1234 this occurs agian 222-234-1234\"\n",
    "res = re.finditer(pt,st)\n",
    "print(res.__next__().groups())\n",
    "print(res.__next__().groups())\n",
    "print(res.__next__().groups())"
   ]
  },
  {
   "cell_type": "code",
   "execution_count": 49,
   "metadata": {},
   "outputs": [
    {
     "name": "stdout",
     "output_type": "stream",
     "text": [
      "('33', 'A')\n"
     ]
    }
   ],
   "source": [
    "#re.compile\n",
    "#First compile and then match\n",
    "cmpld = re.compile(\"([0-9]{2,5})([A-Z]*)\")\n",
    "res = cmpld.match(\"33A\")\n",
    "print(res.groups())"
   ]
  },
  {
   "cell_type": "code",
   "execution_count": 50,
   "metadata": {},
   "outputs": [
    {
     "data": {
      "text/plain": [
       "'aaa...bbb...ccc'"
      ]
     },
     "execution_count": 50,
     "metadata": {},
     "output_type": "execute_result"
    }
   ],
   "source": [
    "#Substitute\n",
    "re.sub('--', '...', 'aaa--bbb--ccc')"
   ]
  },
  {
   "cell_type": "code",
   "execution_count": 51,
   "metadata": {},
   "outputs": [
    {
     "data": {
      "text/plain": [
       "['aaa', 'bbb', 'ccc']"
      ]
     },
     "execution_count": 51,
     "metadata": {},
     "output_type": "execute_result"
    }
   ],
   "source": [
    "#Split\n",
    "re.split('--|==', 'aaa--bbb==ccc')"
   ]
  },
  {
   "cell_type": "code",
   "execution_count": null,
   "metadata": {
    "collapsed": true
   },
   "outputs": [],
   "source": []
  }
 ],
 "metadata": {
  "anaconda-cloud": {},
  "kernelspec": {
   "display_name": "Python 3",
   "language": "python",
   "name": "python3"
  },
  "language_info": {
   "codemirror_mode": {
    "name": "ipython",
    "version": 3
   },
   "file_extension": ".py",
   "mimetype": "text/x-python",
   "name": "python",
   "nbconvert_exporter": "python",
   "pygments_lexer": "ipython3",
   "version": "3.7.3"
  }
 },
 "nbformat": 4,
 "nbformat_minor": 1
}
