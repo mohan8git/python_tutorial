{
 "cells": [
  {
   "cell_type": "markdown",
   "metadata": {},
   "source": [
    "### Printing statements"
   ]
  },
  {
   "cell_type": "code",
   "execution_count": 1,
   "metadata": {},
   "outputs": [
    {
     "name": "stdout",
     "output_type": "stream",
     "text": [
      "I love Python\n"
     ]
    }
   ],
   "source": [
    "# Print\n",
    "print(\"I love Python\")"
   ]
  },
  {
   "cell_type": "code",
   "execution_count": 2,
   "metadata": {},
   "outputs": [
    {
     "name": "stdout",
     "output_type": "stream",
     "text": [
      "I love Python\n"
     ]
    }
   ],
   "source": [
    "# Print\n",
    "print(\"I love Python\")#commment"
   ]
  },
  {
   "cell_type": "code",
   "execution_count": 3,
   "metadata": {},
   "outputs": [
    {
     "name": "stdout",
     "output_type": "stream",
     "text": [
      "I love Python\n"
     ]
    }
   ],
   "source": [
    "# Print\n",
    "\n",
    "print(\"I love \\\n",
    "Python\")#commment"
   ]
  },
  {
   "cell_type": "code",
   "execution_count": 4,
   "metadata": {},
   "outputs": [
    {
     "ename": "SyntaxError",
     "evalue": "EOL while scanning string literal (<ipython-input-4-7f0210381e2f>, line 3)",
     "output_type": "error",
     "traceback": [
      "\u001b[1;36m  File \u001b[1;32m\"<ipython-input-4-7f0210381e2f>\"\u001b[1;36m, line \u001b[1;32m3\u001b[0m\n\u001b[1;33m    print(\"I love \\#should not have comments here\u001b[0m\n\u001b[1;37m                                                 ^\u001b[0m\n\u001b[1;31mSyntaxError\u001b[0m\u001b[1;31m:\u001b[0m EOL while scanning string literal\n"
     ]
    }
   ],
   "source": [
    "# Print\n",
    "\n",
    "print(\"I love \\#should not have comments here\n",
    "Python\")\"#commment"
   ]
  },
  {
   "cell_type": "code",
   "execution_count": 5,
   "metadata": {},
   "outputs": [
    {
     "name": "stdout",
     "output_type": "stream",
     "text": [
      "I love Python\n"
     ]
    }
   ],
   "source": [
    "# Print\n",
    "print(\"I love Python\")"
   ]
  },
  {
   "cell_type": "code",
   "execution_count": 6,
   "metadata": {},
   "outputs": [
    {
     "name": "stdout",
     "output_type": "stream",
     "text": [
      "1,2,4\n"
     ]
    }
   ],
   "source": [
    "x=1\n",
    "y=2\n",
    "z=4\n",
    "print(x, y, z, sep=',')#works in 3.x\n"
   ]
  },
  {
   "cell_type": "code",
   "execution_count": 7,
   "metadata": {},
   "outputs": [
    {
     "name": "stdout",
     "output_type": "stream",
     "text": [
      "1 1 2 4\n"
     ]
    }
   ],
   "source": [
    "print(x, end=\" \");print(x, y, z)  # Two prints, same output line #works in 3.x"
   ]
  },
  {
   "cell_type": "code",
   "execution_count": 8,
   "metadata": {},
   "outputs": [
    {
     "name": "stdout",
     "output_type": "stream",
     "text": [
      "1...2...4!\n",
      "1...2...4!\n"
     ]
    }
   ],
   "source": [
    "print(x, y, z, sep='...', end='!\\n')  # Multiple keywords #works in 3.x\n",
    "print(x, y, z, end='!\\n', sep='...')  # Order doesn't matter #works in 3.x"
   ]
  },
  {
   "cell_type": "markdown",
   "metadata": {},
   "source": [
    "# Variables and types\n"
   ]
  },
  {
   "cell_type": "code",
   "execution_count": 9,
   "metadata": {},
   "outputs": [],
   "source": [
    "#variable name Syntax: (underscore or letter) + (any number of letters, digits, or underscores)\n",
    "#Case matters: SPAMis not the same as spam\n",
    "#Reserved words are off-limits"
   ]
  },
  {
   "cell_type": "code",
   "execution_count": 10,
   "metadata": {},
   "outputs": [
    {
     "name": "stdout",
     "output_type": "stream",
     "text": [
      "10\n",
      "5\n"
     ]
    }
   ],
   "source": [
    "# Variables and assignment\n",
    "a = 10\n",
    "print(a)\n",
    "b = 5\n",
    "print(b)"
   ]
  },
  {
   "cell_type": "code",
   "execution_count": 11,
   "metadata": {},
   "outputs": [
    {
     "name": "stdout",
     "output_type": "stream",
     "text": [
      "<class 'int'>\n",
      "<class 'str'>\n",
      "<class 'float'>\n",
      "False\n"
     ]
    }
   ],
   "source": [
    "# Dynamically-inferred types\n",
    "a = 10\n",
    "print(type(a))\n",
    "a = '10'\n",
    "print(type(a))\n",
    "a = 10.0\n",
    "print(type(a))\n",
    "print(isinstance(a,int))"
   ]
  },
  {
   "cell_type": "code",
   "execution_count": 12,
   "metadata": {
    "scrolled": false
   },
   "outputs": [
    {
     "ename": "TypeError",
     "evalue": "unsupported operand type(s) for +: 'int' and 'str'",
     "output_type": "error",
     "traceback": [
      "\u001b[1;31m---------------------------------------------------------------------------\u001b[0m",
      "\u001b[1;31mTypeError\u001b[0m                                 Traceback (most recent call last)",
      "\u001b[1;32m<ipython-input-12-1d1de165a119>\u001b[0m in \u001b[0;36m<module>\u001b[1;34m\u001b[0m\n\u001b[0;32m      2\u001b[0m \u001b[0ma\u001b[0m \u001b[1;33m=\u001b[0m \u001b[1;36m10\u001b[0m\u001b[1;33m\u001b[0m\u001b[1;33m\u001b[0m\u001b[0m\n\u001b[0;32m      3\u001b[0m \u001b[0mb\u001b[0m \u001b[1;33m=\u001b[0m \u001b[1;34m'5'\u001b[0m\u001b[1;33m\u001b[0m\u001b[1;33m\u001b[0m\u001b[0m\n\u001b[1;32m----> 4\u001b[1;33m \u001b[0mprint\u001b[0m\u001b[1;33m(\u001b[0m\u001b[0ma\u001b[0m \u001b[1;33m+\u001b[0m \u001b[0mb\u001b[0m\u001b[1;33m)\u001b[0m\u001b[1;33m\u001b[0m\u001b[1;33m\u001b[0m\u001b[0m\n\u001b[0m",
      "\u001b[1;31mTypeError\u001b[0m: unsupported operand type(s) for +: 'int' and 'str'"
     ]
    }
   ],
   "source": [
    "# Type-checking\n",
    "a = 10\n",
    "b = '5'\n",
    "print(a + b)"
   ]
  },
  {
   "cell_type": "code",
   "execution_count": 13,
   "metadata": {},
   "outputs": [
    {
     "name": "stdout",
     "output_type": "stream",
     "text": [
      "15\n"
     ]
    }
   ],
   "source": [
    "# Manual type-casting (string to int)\n",
    "a = 10\n",
    "b = '5'\n",
    "print(a + int(b))"
   ]
  },
  {
   "cell_type": "code",
   "execution_count": 14,
   "metadata": {},
   "outputs": [
    {
     "name": "stdout",
     "output_type": "stream",
     "text": [
      "<class 'int'>\n",
      "<class 'float'>\n"
     ]
    }
   ],
   "source": [
    "# Automatic type-casting (int to float)\n",
    "a = 10\n",
    "print(type(a))\n",
    "a += 5.0\n",
    "print(type(a))  "
   ]
  },
  {
   "cell_type": "code",
   "execution_count": null,
   "metadata": {},
   "outputs": [],
   "source": [
    "# Integer division\n",
    "a = 10\n",
    "b = 5                                         \n",
    "print(a/b)\n",
    "print(b//a)\n",
    "print(int('101',2))"
   ]
  },
  {
   "cell_type": "code",
   "execution_count": null,
   "metadata": {},
   "outputs": [],
   "source": [
    "# Forcing float division\n",
    "b='3'\n",
    "a=2.0\n",
    "print(float(b)/a)"
   ]
  },
  {
   "cell_type": "markdown",
   "metadata": {},
   "source": [
    "# Assignments and Expressions"
   ]
  },
  {
   "cell_type": "code",
   "execution_count": null,
   "metadata": {},
   "outputs": [],
   "source": [
    "spam = 'Spam'#Basic form\n",
    "print(spam)\n",
    "\n",
    "spam, ham = 'yum', 'YUM'#Tuple assignment (positional)\n",
    "print(spam,ham)\n",
    "\n",
    "[spam, ham] = ['yum', 'YUM']#List assignment (positional)\n",
    "print(spam,ham) \n",
    "\n",
    "a, b, c, d = 'spam'#Sequence assignment, generalized\n",
    "print(a,b,c,d)\n",
    "\n",
    "#a,*b = 'spam'#Extended sequence unpacking (Python 3.0)\n",
    "#print(a,b)\n",
    "spam = ham = 'lunch'#Multiple-target assignment\n",
    "print(spam,ham)\n",
    "\n",
    "number=9\n",
    "number += 42#Augmented assignment \n",
    "print(number)"
   ]
  },
  {
   "cell_type": "code",
   "execution_count": null,
   "metadata": {
    "collapsed": true
   },
   "outputs": [],
   "source": [
    "[a, b, c] = (1, 2, 3)\n",
    "print(a,c)\n",
    "\n",
    "(a, b, c) = \"ABC\"\n",
    "print(a,b)\n",
    "\n",
    "((a, b), c) = ('SP', 'AM')\n",
    "print(a,b,c)"
   ]
  },
  {
   "cell_type": "code",
   "execution_count": null,
   "metadata": {},
   "outputs": [],
   "source": [
    "red, green, blue = range(3)\n",
    "print(red,green,blue)"
   ]
  },
  {
   "cell_type": "code",
   "execution_count": null,
   "metadata": {},
   "outputs": [],
   "source": [
    "seq = [1, 2, 3, 4]\n",
    "a, b, c, d = seq\n",
    "print(a, b, c, d)"
   ]
  },
  {
   "cell_type": "code",
   "execution_count": null,
   "metadata": {},
   "outputs": [],
   "source": [
    "a, b = seq#error"
   ]
  },
  {
   "cell_type": "code",
   "execution_count": null,
   "metadata": {},
   "outputs": [],
   "source": [
    "*a, b = seq#only in 3.0\n",
    "print(a)\n",
    "print(b)\n",
    "\n",
    "a, *b, c = seq\n",
    "print(a)\n",
    "print(b)\n",
    "print(c)\n",
    "\n",
    "a, *b = 'spam'\n",
    "print(a)\n",
    "print(b)\n",
    "\n",
    "a, b, c, *d = seq\n",
    "print(a,b,c,d)\n",
    "\n",
    "a, b, c, d, *e = seq\n",
    "print(a,b,c,d,e)"
   ]
  },
  {
   "cell_type": "code",
   "execution_count": null,
   "metadata": {},
   "outputs": [],
   "source": [
    "#throws error\n",
    "#a, *b, c, *d = seq\n",
    "#a, b = seq\n",
    "#*a = seq\n",
    "*a, = seq#correct usage\n",
    "print(a)"
   ]
  },
  {
   "cell_type": "code",
   "execution_count": null,
   "metadata": {},
   "outputs": [],
   "source": [
    "a=3\n",
    "b=5\n",
    "\n",
    "print(a+b)\n",
    "print(a-b)\n"
   ]
  },
  {
   "cell_type": "code",
   "execution_count": null,
   "metadata": {},
   "outputs": [],
   "source": [
    "c=4.5\n",
    "a=2\n",
    "print(c/a)\n",
    "print(c//a)\n",
    "print(c*a)\n",
    "print(c%a) "
   ]
  },
  {
   "cell_type": "code",
   "execution_count": null,
   "metadata": {},
   "outputs": [],
   "source": [
    "#boolan operators\n",
    "print (1 or 0)\n",
    "print (-3 and 0)\n",
    "print (not 1)"
   ]
  },
  {
   "cell_type": "code",
   "execution_count": null,
   "metadata": {},
   "outputs": [],
   "source": [
    "#identity test\n",
    "print(a is b)\n",
    "print (a is not b)"
   ]
  },
  {
   "cell_type": "code",
   "execution_count": null,
   "metadata": {},
   "outputs": [],
   "source": [
    "print (1<<2)\n",
    "print (1>>1)"
   ]
  },
  {
   "cell_type": "code",
   "execution_count": null,
   "metadata": {},
   "outputs": [],
   "source": [
    "ans=lambda a,b:a**b\n",
    "print(ans(5,3))"
   ]
  },
  {
   "cell_type": "code",
   "execution_count": null,
   "metadata": {},
   "outputs": [],
   "source": [
    "#complex number\n",
    "a=1+0j\n",
    "b=1+2j\n",
    "print (a*b)"
   ]
  },
  {
   "cell_type": "code",
   "execution_count": null,
   "metadata": {},
   "outputs": [],
   "source": [
    "#multiple assgnment\n",
    "a=b=c=3\n",
    "print (\"value of a, b,c\",a,b,c)\n",
    "\n",
    "b=2 #a=3,b=2\n",
    "a,b=b,a\n",
    "print(\"a=\",a,\"b=\",b)#a=2,b=3"
   ]
  },
  {
   "cell_type": "code",
   "execution_count": null,
   "metadata": {},
   "outputs": [],
   "source": [
    "#augumented\n",
    "a+=1#a=2\n",
    "print (a)\n",
    "b/=3#b=3\n",
    "print (b)"
   ]
  },
  {
   "cell_type": "code",
   "execution_count": null,
   "metadata": {},
   "outputs": [],
   "source": [
    "#del\n",
    "a=4\n",
    "print (a)\n",
    "del a,b#unbinds references\n",
    "print (a)"
   ]
  },
  {
   "cell_type": "code",
   "execution_count": 3,
   "metadata": {},
   "outputs": [
    {
     "name": "stdout",
     "output_type": "stream",
     "text": [
      "True\n",
      "value of x 9\n",
      "2^3 8\n",
      "pow(1,4,4)= 1\n"
     ]
    }
   ],
   "source": [
    "#expressions\n",
    "x=4\n",
    "y=2\n",
    "\n",
    "\n",
    "#comparison\n",
    "a=1;b=4;c=4;d=5\n",
    "print (a < b <= c < d) #same as a < b and b <= c and c < d\n",
    "\n",
    "#ternary operator\n",
    "x = 4 if b > 8 else 9\n",
    "print (\"value of x\",x)\n",
    "\n",
    "\n",
    "print (\"2^3\",pow(2,3))\n",
    "\n",
    "p=pow(a,b,c)#same as (a**b)%c\n",
    "print (\"pow(1,4,4)=\",p)\n"
   ]
  },
  {
   "cell_type": "markdown",
   "metadata": {},
   "source": [
    "### User Input"
   ]
  },
  {
   "cell_type": "code",
   "execution_count": null,
   "metadata": {},
   "outputs": [],
   "source": [
    "a = input('Enter value 1: ')\n",
    "print(a)"
   ]
  },
  {
   "cell_type": "code",
   "execution_count": null,
   "metadata": {},
   "outputs": [],
   "source": [
    "a = input('Enter value 1: ')\n",
    "b = input('Enter value 2: ')\n",
    "print (a + b)"
   ]
  },
  {
   "cell_type": "markdown",
   "metadata": {},
   "source": [
    "### Conditional (If) Statements"
   ]
  },
  {
   "cell_type": "code",
   "execution_count": null,
   "metadata": {},
   "outputs": [],
   "source": [
    "# If statements\n",
    "# Unlike other languages, indentation is significant\n",
    "a = 5\n",
    "if a > 10:\n",
    "    print ('a is greater than 10')\n",
    "    if a >= 15:\n",
    "        print ('a is also at least 15')\n",
    "elif a > 5:\n",
    "    print ('a is greater than 5 but not greater than 10')\n",
    "else:\n",
    "    print ('no condition matched')\n",
    "    print ('so a is 5 or less')"
   ]
  },
  {
   "cell_type": "code",
   "execution_count": null,
   "metadata": {
    "collapsed": true
   },
   "outputs": [],
   "source": [
    "x=int(input(\"enter a number\"))\n",
    "if x==0 :\n",
    "    pass#do nothing\n",
    "elif x>23 or x%2 and x<5:\n",
    "    print(x)\n",
    "elif x%2==0:\n",
    "    print(\"x is even\")\n",
    "else:\n",
    "    print(x)"
   ]
  },
  {
   "cell_type": "markdown",
   "metadata": {},
   "source": [
    "### <font color = 'green'>Your Turn</font>"
   ]
  },
  {
   "cell_type": "code",
   "execution_count": null,
   "metadata": {
    "collapsed": true
   },
   "outputs": [],
   "source": [
    "# Write a program that asks for a number and computes the\n",
    "# square of that number.\n",
    "# If the square is 100 or greater, print the squared value\n",
    "# and the word 'big'.\n",
    "# Otherwise if the square is between 50 and 99, print the\n",
    "# squared value and the word 'medium'.\n",
    "# Otherwise just print 'too small to bother with'.\n",
    "#\n"
   ]
  },
  {
   "cell_type": "markdown",
   "metadata": {},
   "source": [
    "### <font color = 'green'>Basic Loops</font>"
   ]
  },
  {
   "cell_type": "code",
   "execution_count": null,
   "metadata": {},
   "outputs": [],
   "source": [
    "n = int(input())\n",
    "for i in range(n):\n",
    "    print(i)"
   ]
  },
  {
   "cell_type": "code",
   "execution_count": null,
   "metadata": {},
   "outputs": [],
   "source": [
    "i = 0\n",
    "while (i<10):\n",
    "    print(i)\n",
    "    i+=1 #You have to take care of incrementing"
   ]
  },
  {
   "cell_type": "code",
   "execution_count": null,
   "metadata": {
    "collapsed": true
   },
   "outputs": [],
   "source": [
    "#Faster traversal\n"
   ]
  },
  {
   "cell_type": "markdown",
   "metadata": {
    "collapsed": true
   },
   "source": [
    "# Sequences"
   ]
  },
  {
   "cell_type": "markdown",
   "metadata": {
    "collapsed": true
   },
   "source": [
    "## Tuples\n"
   ]
  },
  {
   "cell_type": "code",
   "execution_count": null,
   "metadata": {},
   "outputs": [],
   "source": [
    "t1=(21,)#singleton\n",
    "t2=(21,22)#pair\n",
    "t3=(21,22,'twenty three')\n",
    "t4=()\n",
    "\n",
    "print(t1)\n",
    "print (t2)\n",
    "print (t3,t4)\n",
    "\n",
    "x=tuple('python')\n",
    "print (x)\n",
    "\n",
    "print (t2[1])\n",
    "t2[1]=0"
   ]
  },
  {
   "cell_type": "markdown",
   "metadata": {},
   "source": [
    "## list"
   ]
  },
  {
   "cell_type": "code",
   "execution_count": null,
   "metadata": {},
   "outputs": [],
   "source": [
    "#list\n",
    "l1=['value1']\n",
    "l2=['a','b','c']\n",
    "l3=[]\n",
    "L = ['abc', ['def', 'ghi']] #Nested sublists\n",
    "l4=list('python')\n",
    "\n",
    "print (l1)\n",
    "print (l2)\n",
    "print (l3)\n",
    "print (l4) \n",
    "\n",
    "l3.append(1)\n",
    "l2[1]=3#mutable\n",
    "\n",
    "print (l3)\n",
    "print (l2)\n",
    "\n",
    "z=[1,2].extend([4,5])\n",
    "print (z)"
   ]
  },
  {
   "cell_type": "code",
   "execution_count": null,
   "metadata": {},
   "outputs": [],
   "source": [
    "L = list(range(-4, 4))\n",
    "print (L)"
   ]
  },
  {
   "cell_type": "code",
   "execution_count": null,
   "metadata": {},
   "outputs": [],
   "source": [
    "l1=[1,2,3,4,5]\n",
    "l1.insert(2,'next is three')\n",
    "print (l1)"
   ]
  },
  {
   "cell_type": "code",
   "execution_count": null,
   "metadata": {},
   "outputs": [],
   "source": [
    "l1.remove(2)\n",
    "print(l1)"
   ]
  },
  {
   "cell_type": "code",
   "execution_count": null,
   "metadata": {},
   "outputs": [],
   "source": [
    "print (l1.pop())"
   ]
  },
  {
   "cell_type": "code",
   "execution_count": null,
   "metadata": {},
   "outputs": [],
   "source": [
    "print (l1.pop(1))\n",
    "print (l1)"
   ]
  },
  {
   "cell_type": "code",
   "execution_count": null,
   "metadata": {
    "scrolled": true
   },
   "outputs": [],
   "source": [
    "#operations in sequences\n",
    "l=[1,2,3,4]\n",
    "s=\"python\"\n",
    "print (len(s))\n",
    "print (sum(l))\n",
    "print (min(l))\n",
    "print (max(l))\n",
    "\n",
    "l1=[5,6,7,]\n",
    "print (l+l1)\n",
    "print (\"l*2\",l*2)\n",
    "\n",
    "print (2 in l)\n",
    "print ('py'in s)\n",
    "#indexing sequence\n",
    "print (l1[1],l1[-1],l1[-2])\n",
    "#silicing\n",
    "print (s[1:3],l[:2],l[1:],l[:])"
   ]
  },
  {
   "cell_type": "code",
   "execution_count": null,
   "metadata": {},
   "outputs": [],
   "source": [
    "#more operations in list\n",
    "#l1=[5,6,7,]\n",
    "print(l1)\n",
    "l1[3:5]=[9,8,10] \n",
    "print (l1)\n",
    "\n",
    "l1=[1,2,3,4,5,6,7,8]\n",
    "del l1[::2]\n",
    "print (\"after delete\",l1)\n",
    "\n",
    "del l1[0]\n",
    "print (\"after del first position in l1\",l1)\n",
    "\n",
    "print (\"no of occurances of 3\",l1.count(3))\n",
    "print (\"number six in position\" , l1.index(6))\n",
    "\n",
    "l1.append(1)\n",
    "print (\"1 is appended\", l1)\n",
    "\n",
    "l1.extend(l)\n",
    "print (\"extending l1 by l\",l1)\n",
    "\n",
    "l1.sort()\n",
    "#sorted(l1)\n",
    "print (\"sorted l1\",l1)\n",
    "\n",
    "l1.reverse()# or reversed(l1)\n",
    "print (\"reverse \",l1)\n"
   ]
  },
  {
   "cell_type": "code",
   "execution_count": null,
   "metadata": {},
   "outputs": [],
   "source": [
    "matrix = [[1, 2, 3], [4, 5, 6], [7, 8, 9]]\n",
    "print(matrix[1][1])"
   ]
  },
  {
   "cell_type": "code",
   "execution_count": null,
   "metadata": {},
   "outputs": [],
   "source": [
    "L = ['abc', 'ABD', 'aBe']\n",
    "L.sort()  # Sort with mixed case\n",
    "print(L)\n",
    "\n",
    "L = ['abc', 'ABD', 'aBe']\n",
    "L.sort(key=str.lower)  # Normalize to lowercase\n",
    "print(L)\n",
    "\n",
    "L = ['abc', 'ABD', 'aBe']\n",
    "L.sort(key=str.lower, reverse=True)  # Change sort order\n",
    "print (L)\n"
   ]
  },
  {
   "cell_type": "markdown",
   "metadata": {},
   "source": [
    "## dictionary"
   ]
  },
  {
   "cell_type": "code",
   "execution_count": null,
   "metadata": {},
   "outputs": [],
   "source": [
    "#dictionary\n",
    "d1={}\n",
    "d2={'one':1,'two':2,'three':3,'four':4}\n",
    "d3={'one':1}\n",
    "print (d2['one'])\n",
    "print (d2)\n",
    "print (d3)"
   ]
  },
  {
   "cell_type": "code",
   "execution_count": null,
   "metadata": {},
   "outputs": [],
   "source": [
    "#Creating dictionaries\n",
    "print (dict(one=1))\n",
    "print (dict([[1,2],[4,3]]))\n",
    "print (dict.fromkeys('hello', 2)) # same as {'h':2, 'e':2, 'l':2, 'o':2}\n",
    "print (dict.fromkeys([1, 2, 3])) # same as {1:None, 2:None, 3:None}"
   ]
  },
  {
   "cell_type": "code",
   "execution_count": null,
   "metadata": {},
   "outputs": [],
   "source": [
    "#Creating dictionaries\n",
    "seq = ('name', 'age', 'sex')\n",
    "dict1 = dict.fromkeys(seq)\n",
    "print (\"New Dictionary : %s\" %  str(dict1))\n",
    "#seq2=(1,2,3)\n",
    "dict2 = dict.fromkeys(seq, 10)\n",
    "print (\"New Dictionary : %s\" %  str(dict2))"
   ]
  },
  {
   "cell_type": "code",
   "execution_count": null,
   "metadata": {},
   "outputs": [],
   "source": [
    "#operations in dictionary\n",
    "print(d2)\n",
    "print (d2['two'])\n",
    "print (d2.get('five','not available'))\n",
    "print (d2.get('four'))\n",
    "\n",
    "print('six' in d2)\n",
    "print (d2.items())\n",
    "print (d2.keys())\n",
    "print (d2.values())\n",
    "print (d2)\n",
    "#other dict methods practise at home(ref r2 chapter4)"
   ]
  },
  {
   "cell_type": "code",
   "execution_count": null,
   "metadata": {},
   "outputs": [],
   "source": [
    "D = {'food': {'ham': 1, 'egg': 2}}\n",
    "print(D['food']['ham'])\n",
    "\n",
    "#Create dictionary using zip\n",
    "keyslist=[1,2,3]\n",
    "valslist=[4,5,6]\n",
    "D = dict(zip(keyslist, valslist))\n",
    "print(D)"
   ]
  },
  {
   "cell_type": "code",
   "execution_count": null,
   "metadata": {},
   "outputs": [],
   "source": [
    "print(D.copy())\n",
    "D2={'one':1}\n",
    "D.update(D2)\n",
    "print(D) \n",
    "D.pop('one')\n",
    "print(D)"
   ]
  },
  {
   "cell_type": "code",
   "execution_count": null,
   "metadata": {},
   "outputs": [],
   "source": [
    "#only in 3.0\n",
    "print (list(zip(['a', 'b', 'c'], [1, 2, 3])))  # Zip together keys and values\n",
    "\n",
    "D = dict(zip(['a', 'b', 'c'], [1, 2, 3]))  # Make a dict from zip result\n",
    "print(D)"
   ]
  },
  {
   "cell_type": "code",
   "execution_count": null,
   "metadata": {},
   "outputs": [],
   "source": [
    "D = dict(a=1, b=2, c=3)\n",
    "print(D)"
   ]
  },
  {
   "cell_type": "code",
   "execution_count": null,
   "metadata": {},
   "outputs": [],
   "source": [
    "# Duplicate keys not allowed - note overwriting behavior\n",
    "a = {'name': 'sonu', 'name': 'reshma'}\n",
    "print(a)"
   ]
  },
  {
   "cell_type": "markdown",
   "metadata": {},
   "source": [
    "## string"
   ]
  },
  {
   "cell_type": "code",
   "execution_count": null,
   "metadata": {},
   "outputs": [],
   "source": [
    "#string\n",
    "a='python'\n",
    "b=\"python\"\n",
    "print(a,b)\n",
    "a=\"I\\'m a student\"\n",
    "print (a)\n"
   ]
  },
  {
   "cell_type": "code",
   "execution_count": null,
   "metadata": {},
   "outputs": [],
   "source": [
    "\n",
    "a=('I am ' #logical line continues\n",
    "  'a teacher')#indendation not needed\n",
    "print (a)\n",
    "print (a[0])\n",
    "print(len(a))\n",
    "print(a[0:4])\n",
    "#a[2]='w'#string isimmutable\n",
    "print(a[::-1])"
   ]
  },
  {
   "cell_type": "code",
   "execution_count": null,
   "metadata": {},
   "outputs": [],
   "source": [
    "# String \"arithmetic\" (actually concatenation)\n",
    "a = 'Monica '\n",
    "b = 'Catherine'\n",
    "print(a + b)"
   ]
  },
  {
   "cell_type": "code",
   "execution_count": null,
   "metadata": {},
   "outputs": [],
   "source": [
    "#plain\n",
    "a=10\n",
    "b='string'\n",
    "print(a,b)"
   ]
  },
  {
   "cell_type": "markdown",
   "metadata": {},
   "source": [
    "###  Loops"
   ]
  },
  {
   "cell_type": "code",
   "execution_count": null,
   "metadata": {},
   "outputs": [],
   "source": [
    "\n",
    "a = [2, 4, 7, 9]\n",
    "print(a)\n"
   ]
  },
  {
   "cell_type": "code",
   "execution_count": null,
   "metadata": {},
   "outputs": [],
   "source": [
    "# Iterate through a list\n",
    "for x in a:\n",
    "    print (x, 2 * x)"
   ]
  },
  {
   "cell_type": "code",
   "execution_count": null,
   "metadata": {
    "collapsed": true
   },
   "outputs": [],
   "source": [
    "# List elements can be of different types\n",
    "a = [1, 'two', 3.0, [4,5,6]]\n",
    "print(a)\n",
    "print (type(a))\n",
    "print (type(a[0]), type(a[1]), type(a[2]), type (a[3]))"
   ]
  },
  {
   "cell_type": "code",
   "execution_count": null,
   "metadata": {},
   "outputs": [],
   "source": [
    "#range and xrange\n",
    "for x in range(10):\n",
    "    print (x)\n",
    "print (\"##################\")\n",
    "for x in range(1,10):\n",
    "    print (x)\n",
    "print (\"##################\")\n",
    "for x in range(1,10,3):\n",
    "    print (x)\n",
    "#print range(1,5)\n",
    "#for i in xrange(1,5):\n",
    " #   print i\n"
   ]
  },
  {
   "cell_type": "code",
   "execution_count": null,
   "metadata": {},
   "outputs": [],
   "source": [
    "list1=[1,'a',2,3]\n",
    "for x in list1:\n",
    "    print(x)\n",
    "for letter in'python':\n",
    "    print (letter)"
   ]
  },
  {
   "cell_type": "code",
   "execution_count": null,
   "metadata": {
    "collapsed": true
   },
   "outputs": [],
   "source": [
    "while True:\n",
    "    i=int(input('enter a number'))\n",
    "    if i>20:\n",
    "        break\n",
    "print (\"entered number is greater than 20\")"
   ]
  },
  {
   "cell_type": "code",
   "execution_count": null,
   "metadata": {
    "collapsed": true
   },
   "outputs": [],
   "source": [
    "# Echo user input, 0 indicates stop\n",
    "a = int(input('Enter a number, 0 to stop: '))\n",
    "while a <> 0:\n",
    "    print (a)\n",
    "    a = (input('Enter a number, 0 to stop: '))"
   ]
  },
  {
   "cell_type": "markdown",
   "metadata": {},
   "source": [
    "### <font color = 'green'>practise</font>"
   ]
  },
  {
   "cell_type": "code",
   "execution_count": null,
   "metadata": {
    "collapsed": true
   },
   "outputs": [],
   "source": [
    "# Below is code that creates a list of four items,\n",
    "# represented as dictionaries specifying each item's\n",
    "# color and size.\n",
    "# Add code to ask for a number, then print the color of all\n",
    "# items whose size is greater than that number.\n",
    "items = [{'color':'red', 'size':10}, {'color':'blue', 'size':3},\\\n",
    "         {'color':'green', 'size':15}, {'color':'yellow', 'size':6}]\n",
    "\n",
    "    "
   ]
  },
  {
   "cell_type": "markdown",
   "metadata": {},
   "source": [
    "### <font color = 'green'>practise</font>"
   ]
  },
  {
   "cell_type": "code",
   "execution_count": null,
   "metadata": {
    "collapsed": true
   },
   "outputs": [],
   "source": [
    "# Copy-paste your program from above and revise it to repeatedly\n",
    "# ask for two numbers and print the color of all items whose\n",
    "# size is between the two numbers, i.e., whose size is higher\n",
    "# than the first number and lower than the second number.\n",
    "# If the user's second number is equal to or smaller than\n",
    "# the first number, the program should print 'Done' and stop.\n",
    "# Note: for the \"and\" of two conditions C1 and C2, use \"C1 and C2\"\n",
    "#\n",
    "items = [{'color':'red', 'size':10}, {'color':'blue', 'size':3},\\\n",
    "         {'color':'green', 'size':15}, {'color':'yellow', 'size':6}]\n"
   ]
  },
  {
   "cell_type": "markdown",
   "metadata": {},
   "source": [
    "### Functions "
   ]
  },
  {
   "cell_type": "code",
   "execution_count": null,
   "metadata": {
    "collapsed": true
   },
   "outputs": [],
   "source": [
    "# Create a function with no arguments or return value\n",
    "def simple():\n",
    "    print ('This function has no arguments or return value')"
   ]
  },
  {
   "cell_type": "code",
   "execution_count": null,
   "metadata": {},
   "outputs": [],
   "source": [
    "# Call the function five times\n",
    "for i in [1,2,3,4,5]:\n",
    "    simple()"
   ]
  },
  {
   "cell_type": "code",
   "execution_count": null,
   "metadata": {
    "collapsed": true
   },
   "outputs": [],
   "source": [
    "# Create a function with arguments and a return value\n",
    "def addthem(a, b):\n",
    "    return a + b"
   ]
  },
  {
   "cell_type": "code",
   "execution_count": null,
   "metadata": {},
   "outputs": [],
   "source": [
    "# Call the function five times\n",
    "for i in [1,2,3,4,5]:\n",
    "    print ('x is', i, '  y is', i+1, '  sum is', addthem(i,i+1))"
   ]
  },
  {
   "cell_type": "code",
   "execution_count": null,
   "metadata": {},
   "outputs": [],
   "source": [
    "def f(x, y=[]):\n",
    "    #print(y)\n",
    "    y.append(x)\n",
    "    return y\n",
    "print (f(23)) # prints: [23]\n",
    "print (f(42))\n",
    "#print (f(42,[45,12,34]))"
   ]
  },
  {
   "cell_type": "code",
   "execution_count": null,
   "metadata": {},
   "outputs": [],
   "source": [
    "def f(x, y=None):\n",
    "    if y is None: \n",
    "        y = []\n",
    "    y.append(x)\n",
    "    return y\n",
    "print (f(23)) # prints: [23]\n",
    "print (f(42)) "
   ]
  },
  {
   "cell_type": "code",
   "execution_count": null,
   "metadata": {},
   "outputs": [],
   "source": [
    "def sum_args(*numbers):\n",
    "    '''Accept arbitrary numerical arguments and return their sum.\n",
    "    The arguments are zero or more numbers. The result is their sum.'''\n",
    "    print(numbers)\n",
    "    return sum(numbers)\n",
    "print (sum_args(23, 42, 21))"
   ]
  },
  {
   "cell_type": "code",
   "execution_count": null,
   "metadata": {},
   "outputs": [],
   "source": [
    "def counter( ):\n",
    "    counter.count += 1\n",
    "    print(cnt)\n",
    "    return counter.count\n",
    "counter.count = 5\n",
    "cnt=1\n",
    "print(counter())  "
   ]
  },
  {
   "cell_type": "code",
   "execution_count": null,
   "metadata": {},
   "outputs": [],
   "source": [
    "def f(x, y):\n",
    "    x = 23\n",
    "    y.append(42)\n",
    "a = 77\n",
    "b = [99]\n",
    "f(a, b)\n",
    "print (a, b)"
   ]
  },
  {
   "cell_type": "code",
   "execution_count": null,
   "metadata": {},
   "outputs": [],
   "source": [
    "def f(middle, begin='init', end='finis'):\n",
    "    return begin+middle+end\n",
    "print (f('tini', end='')) # prints: inittini\n",
    "print (f('tini'))"
   ]
  },
  {
   "cell_type": "code",
   "execution_count": null,
   "metadata": {
    "collapsed": true
   },
   "outputs": [],
   "source": [
    "def divide(divisor, dividend):\n",
    "    return dividend // divisor\n",
    "print divide(12, 94) # prints: 7\n",
    "print divide(dividend=94, divisor=12) # prints: 7"
   ]
  },
  {
   "cell_type": "code",
   "execution_count": null,
   "metadata": {},
   "outputs": [],
   "source": [
    "def sum_args(*numbers):\n",
    "    return sum(numbers)\n",
    "d={'a':1,'b':2,'c':3}\n",
    "print (sum_args(*d.values( )))\n",
    "#print d.values()"
   ]
  },
  {
   "cell_type": "code",
   "execution_count": null,
   "metadata": {},
   "outputs": [],
   "source": [
    "#nested function\n",
    "def percent1(a, b, c):\n",
    "    def pc(x, total=a+b+c): \n",
    "        return (x*100.0) / total\n",
    "    print (\"Percentages are:\", pc(a), pc(b), pc(c))\n",
    "percent1(23,123,56)"
   ]
  },
  {
   "cell_type": "code",
   "execution_count": null,
   "metadata": {},
   "outputs": [],
   "source": [
    "def make_adder(augend):\n",
    "    def add(addend):\n",
    "        return addend+augend\n",
    "    return add(augend)\n",
    "ans=make_adder(2)\n",
    "print(ans)"
   ]
  },
  {
   "cell_type": "code",
   "execution_count": null,
   "metadata": {
    "collapsed": true
   },
   "outputs": [],
   "source": [
    "def f (x): return x**2 \n",
    "print f(8)\n",
    "g = lambda x,y: x**y\n",
    "print g(8,2)"
   ]
  },
  {
   "cell_type": "code",
   "execution_count": 18,
   "metadata": {},
   "outputs": [
    {
     "name": "stdout",
     "output_type": "stream",
     "text": [
      "[18, 9, 24, 12, 27]\n",
      "[14, 46, 28, 54, 44, 58, 26, 34, 64]\n"
     ]
    }
   ],
   "source": [
    "foo = [2, 18, 9, 22, 17, 24, 8, 12, 27]\n",
    "print(list(filter(lambda x: x % 3 == 0, foo)))\n",
    "\n",
    "print (list(map(lambda x: x * 2 + 10, foo)))\n",
    "\n",
    "#source\n",
    "#http://www.secnetix.de/olli/Python/lambda_functions.hawk"
   ]
  },
  {
   "cell_type": "markdown",
   "metadata": {},
   "source": [
    "# your turn"
   ]
  },
  {
   "cell_type": "code",
   "execution_count": null,
   "metadata": {
    "collapsed": true
   },
   "outputs": [],
   "source": [
    "#Create a function which accepts dictionary keys(as a list) as its only argument.\n",
    "#The function removes the duplicate keys and returns a sorted list of keys "
   ]
  },
  {
   "cell_type": "code",
   "execution_count": null,
   "metadata": {
    "collapsed": true
   },
   "outputs": [],
   "source": []
  }
 ],
 "metadata": {
  "anaconda-cloud": {},
  "kernelspec": {
   "display_name": "Python 3",
   "language": "python",
   "name": "python3"
  },
  "language_info": {
   "codemirror_mode": {
    "name": "ipython",
    "version": 3
   },
   "file_extension": ".py",
   "mimetype": "text/x-python",
   "name": "python",
   "nbconvert_exporter": "python",
   "pygments_lexer": "ipython3",
   "version": "3.7.3"
  }
 },
 "nbformat": 4,
 "nbformat_minor": 1
}
