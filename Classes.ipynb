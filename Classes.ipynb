{
 "cells": [
  {
   "cell_type": "markdown",
   "metadata": {},
   "source": [
    "### Simple Class Definition"
   ]
  },
  {
   "cell_type": "code",
   "execution_count": 4,
   "metadata": {
    "collapsed": true
   },
   "outputs": [],
   "source": [
    "class Shape:\n",
    "    '''self is a reference to current instance of a class. This\n",
    "    line is a docstring explaining about the class'''\n",
    "    def __init__(self,x,y):#run as soon as an object of a class is instantiated\n",
    "        self.x = x #Instance level data members\n",
    "        self.y = y\n",
    "    def area(self):\n",
    "        return self.x * self.y\n",
    "    def perimeter(self):\n",
    "        return 2 * self.x + 2 * self.y\n",
    "    def scaleSize(self,scale):\n",
    "        self.x = self.x * scale\n",
    "        self.y = self.y * scale"
   ]
  },
  {
   "cell_type": "markdown",
   "metadata": {},
   "source": [
    "### Object creation and methods call"
   ]
  },
  {
   "cell_type": "code",
   "execution_count": 5,
   "metadata": {},
   "outputs": [
    {
     "name": "stdout",
     "output_type": "stream",
     "text": [
      "3618\n"
     ]
    }
   ],
   "source": [
    "rectangle = Shape(54,67)\n",
    "print(rectangle.area())"
   ]
  },
  {
   "cell_type": "markdown",
   "metadata": {},
   "source": [
    "###  Data Members - Class, Instance and Local variables"
   ]
  },
  {
   "cell_type": "code",
   "execution_count": 1,
   "metadata": {
    "collapsed": true
   },
   "outputs": [],
   "source": [
    "class Shape:\n",
    "    '''self is a reference to current instance of a class. This\n",
    "    line is a docstring explaining about the class'''\n",
    "    count=0 #data member class level\n",
    "    def __init__(self,x,y):#run as soon as an object of a class is instantiated\n",
    "        self.x = x #Instance level data members\n",
    "        self.y = y\n",
    "        Shape.count+=1\n",
    "    author = \"Nobody has claimed to make this shape yet\"\n",
    "    def sample(self):#methods\n",
    "        local_variable=\"in function\"#local variable\n",
    "    def setauthorName(self,text):\n",
    "        self.author = text#Access class variable using self\n",
    "        print(self.author)\n",
    "        print(Shape.author)\n",
    "        #print(self.local_variable)"
   ]
  },
  {
   "cell_type": "code",
   "execution_count": 2,
   "metadata": {},
   "outputs": [
    {
     "name": "stdout",
     "output_type": "stream",
     "text": [
      "best\n",
      "Nobody has claimed to make this shape yet\n",
      "1\n"
     ]
    }
   ],
   "source": [
    "s1 = Shape(30,40) #Create object\n",
    "#s1.sample()\n",
    "s1.setauthorName(\"best\")\n",
    "print(s1.__class__.count)#Access class variable outside class"
   ]
  },
  {
   "cell_type": "markdown",
   "metadata": {},
   "source": [
    "### Built-in attributes - can be accessed using class name or instance name"
   ]
  },
  {
   "cell_type": "code",
   "execution_count": 9,
   "metadata": {},
   "outputs": [
    {
     "name": "stdout",
     "output_type": "stream",
     "text": [
      "{'y': 67, 'x': 54}\n",
      "self is a reference to current instance of a class. This\n",
      "    line is a docstring explaining about the class\n",
      "Shape\n",
      "__main__\n"
     ]
    }
   ],
   "source": [
    "print (rectangle.__dict__)\n",
    "print (Shape.__doc__)\n",
    "print (rectangle.__class__.__name__)\n",
    "print (rectangle.__module__)"
   ]
  },
  {
   "cell_type": "markdown",
   "metadata": {},
   "source": [
    "### Inheritance"
   ]
  },
  {
   "cell_type": "code",
   "execution_count": 11,
   "metadata": {
    "collapsed": true
   },
   "outputs": [],
   "source": [
    "#Parent class\n",
    "class Polygon:\n",
    "    def __init__(self, no_of_sides):\n",
    "        self.n = no_of_sides\n",
    "        self.sides = [0 for i in range(no_of_sides)]\n",
    "\n",
    "    def inputSides(self):\n",
    "        self.sides = [float(input(\"Enter side \"+str(i+1)+\" : \")) for i in range(self.n)]\n",
    "\n",
    "    def dispSides(self):\n",
    "        for i in range(self.n):\n",
    "            print(\"Side\",i+1,\"is\",self.sides[i])"
   ]
  },
  {
   "cell_type": "code",
   "execution_count": 12,
   "metadata": {
    "collapsed": true
   },
   "outputs": [],
   "source": [
    "#Child class\n",
    "class Triangle(Polygon):\n",
    "    def __init__(self):\n",
    "        Polygon.__init__(self,3)\n",
    "\n",
    "    def findArea(self):\n",
    "        a, b, c = self.sides\n",
    "        # calculate the semi-perimeter\n",
    "        s = (a + b + c) / 2\n",
    "        area = (float)(s*(s-a)*(s-b)*(s-c)) ** 0.5\n",
    "        print('The area of the triangle is %0.2f' %area)"
   ]
  },
  {
   "cell_type": "code",
   "execution_count": 13,
   "metadata": {},
   "outputs": [
    {
     "name": "stdout",
     "output_type": "stream",
     "text": [
      "(<class '__main__.Polygon'>,)\n"
     ]
    }
   ],
   "source": [
    "#Find the base class\n",
    "t = Triangle()\n",
    "print (Triangle.__bases__)"
   ]
  },
  {
   "cell_type": "code",
   "execution_count": 14,
   "metadata": {},
   "outputs": [
    {
     "name": "stdout",
     "output_type": "stream",
     "text": [
      "Enter side 1 : 23\n",
      "Enter side 2 : 12\n",
      "Enter side 3 : 23\n",
      "Side 1 is 23.0\n",
      "Side 2 is 12.0\n",
      "Side 3 is 23.0\n",
      "The area of the triangle is 133.22\n"
     ]
    }
   ],
   "source": [
    " #Access parent methods\n",
    "t.inputSides()\n",
    "t.dispSides()\n",
    "#Access its own method\n",
    "t.findArea()"
   ]
  },
  {
   "cell_type": "code",
   "execution_count": 15,
   "metadata": {
    "scrolled": true
   },
   "outputs": [
    {
     "name": "stdout",
     "output_type": "stream",
     "text": [
      "False\n",
      "True\n",
      "True\n"
     ]
    }
   ],
   "source": [
    "#Check membership\n",
    "print(issubclass(Polygon,Triangle))\n",
    "print(issubclass(Triangle,Polygon))\n",
    "print(isinstance(t,Polygon))"
   ]
  },
  {
   "cell_type": "markdown",
   "metadata": {},
   "source": [
    "### Operator overloading"
   ]
  },
  {
   "cell_type": "code",
   "execution_count": 16,
   "metadata": {
    "collapsed": true
   },
   "outputs": [],
   "source": [
    "\"\"\"This program demonstrates the operator overloading \"\"\"\n",
    "class Point:\n",
    "    def __init__(self,x,y):\n",
    "        self.x = x\n",
    "        self.y = y\n",
    "    def __add__(self,other):\n",
    "        new_x = self.x + other.x\n",
    "        new_y = self.y + other.y\n",
    "        p=Point(new_x,new_y)\n",
    "        return (p)\n",
    "\n"
   ]
  },
  {
   "cell_type": "code",
   "execution_count": 17,
   "metadata": {
    "collapsed": true
   },
   "outputs": [],
   "source": [
    "p1 = Point(3,4)\n",
    "p2 = Point(8,9)"
   ]
  },
  {
   "cell_type": "code",
   "execution_count": 18,
   "metadata": {},
   "outputs": [
    {
     "name": "stdout",
     "output_type": "stream",
     "text": [
      "11 13\n"
     ]
    }
   ],
   "source": [
    "p3 =p1+p2\n",
    "print(p3.x,p3.y)"
   ]
  },
  {
   "cell_type": "code",
   "execution_count": null,
   "metadata": {
    "collapsed": true
   },
   "outputs": [],
   "source": []
  }
 ],
 "metadata": {
  "anaconda-cloud": {},
  "kernelspec": {
   "display_name": "Python 3",
   "language": "python",
   "name": "python3"
  },
  "language_info": {
   "codemirror_mode": {
    "name": "ipython",
    "version": 3
   },
   "file_extension": ".py",
   "mimetype": "text/x-python",
   "name": "python",
   "nbconvert_exporter": "python",
   "pygments_lexer": "ipython3",
   "version": "3.7.3"
  }
 },
 "nbformat": 4,
 "nbformat_minor": 1
}
