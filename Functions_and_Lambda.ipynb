{
 "cells": [
  {
   "cell_type": "markdown",
   "metadata": {},
   "source": [
    "### Simple functions - Definitions and Call"
   ]
  },
  {
   "cell_type": "code",
   "execution_count": 28,
   "metadata": {
    "collapsed": true
   },
   "outputs": [],
   "source": [
    "# Create a function with no arguments or return value\n",
    "def simple():\n",
    "    print ('This function has no arguments or return value')"
   ]
  },
  {
   "cell_type": "code",
   "execution_count": 29,
   "metadata": {},
   "outputs": [
    {
     "name": "stdout",
     "output_type": "stream",
     "text": [
      "This function has no arguments or return value\n",
      "This function has no arguments or return value\n",
      "This function has no arguments or return value\n",
      "This function has no arguments or return value\n",
      "This function has no arguments or return value\n"
     ]
    }
   ],
   "source": [
    "# Call the function five times\n",
    "for i in [1,2,3,4,5]:\n",
    "    simple()"
   ]
  },
  {
   "cell_type": "code",
   "execution_count": 30,
   "metadata": {
    "collapsed": true
   },
   "outputs": [],
   "source": [
    "# Create a function with arguments and a return value\n",
    "def addthem(a, b):\n",
    "    return a + b"
   ]
  },
  {
   "cell_type": "code",
   "execution_count": 31,
   "metadata": {},
   "outputs": [
    {
     "name": "stdout",
     "output_type": "stream",
     "text": [
      "x is 1   y is 2   sum is 3\n",
      "x is 2   y is 3   sum is 5\n",
      "x is 3   y is 4   sum is 7\n",
      "x is 4   y is 5   sum is 9\n",
      "x is 5   y is 6   sum is 11\n"
     ]
    }
   ],
   "source": [
    "# Call the function five times\n",
    "for i in [1,2,3,4,5]:\n",
    "    print ('x is', i, '  y is', i+1, '  sum is', addthem(i,i+1))"
   ]
  },
  {
   "cell_type": "markdown",
   "metadata": {},
   "source": [
    "### Function call - Positional and Keyword Arguments"
   ]
  },
  {
   "cell_type": "code",
   "execution_count": 33,
   "metadata": {},
   "outputs": [
    {
     "ename": "TypeError",
     "evalue": "'str' object cannot be interpreted as an integer",
     "output_type": "error",
     "traceback": [
      "\u001b[0;31m---------------------------------------------------------------------------\u001b[0m",
      "\u001b[0;31mTypeError\u001b[0m                                 Traceback (most recent call last)",
      "\u001b[0;32m<ipython-input-33-915461ecf8fc>\u001b[0m in \u001b[0;36m<module>\u001b[0;34m()\u001b[0m\n\u001b[1;32m      5\u001b[0m \u001b[1;33m\u001b[0m\u001b[0m\n\u001b[1;32m      6\u001b[0m \u001b[1;31m#nPrintln('hello',3)\u001b[0m\u001b[1;33m\u001b[0m\u001b[1;33m\u001b[0m\u001b[0m\n\u001b[0;32m----> 7\u001b[0;31m \u001b[0mnPrintln\u001b[0m\u001b[1;33m(\u001b[0m\u001b[1;36m3\u001b[0m\u001b[1;33m,\u001b[0m\u001b[1;34m'hello'\u001b[0m\u001b[1;33m)\u001b[0m\u001b[1;33m\u001b[0m\u001b[0m\n\u001b[0m",
      "\u001b[0;32m<ipython-input-33-915461ecf8fc>\u001b[0m in \u001b[0;36mnPrintln\u001b[0;34m(message, n)\u001b[0m\n\u001b[1;32m      1\u001b[0m \u001b[1;31m#Positional Arguments\u001b[0m\u001b[1;33m\u001b[0m\u001b[1;33m\u001b[0m\u001b[0m\n\u001b[1;32m      2\u001b[0m \u001b[1;32mdef\u001b[0m \u001b[0mnPrintln\u001b[0m\u001b[1;33m(\u001b[0m\u001b[0mmessage\u001b[0m\u001b[1;33m,\u001b[0m \u001b[0mn\u001b[0m\u001b[1;33m)\u001b[0m\u001b[1;33m:\u001b[0m\u001b[1;33m\u001b[0m\u001b[0m\n\u001b[0;32m----> 3\u001b[0;31m     \u001b[1;32mfor\u001b[0m \u001b[0mi\u001b[0m \u001b[1;32min\u001b[0m \u001b[0mrange\u001b[0m\u001b[1;33m(\u001b[0m\u001b[0mn\u001b[0m\u001b[1;33m)\u001b[0m\u001b[1;33m:\u001b[0m\u001b[1;33m\u001b[0m\u001b[0m\n\u001b[0m\u001b[1;32m      4\u001b[0m         \u001b[0mprint\u001b[0m\u001b[1;33m(\u001b[0m\u001b[0mmessage\u001b[0m\u001b[1;33m)\u001b[0m\u001b[1;33m\u001b[0m\u001b[0m\n\u001b[1;32m      5\u001b[0m \u001b[1;33m\u001b[0m\u001b[0m\n",
      "\u001b[0;31mTypeError\u001b[0m: 'str' object cannot be interpreted as an integer"
     ]
    }
   ],
   "source": [
    "#Positional Arguments\n",
    "def nPrintln(message, n):\n",
    "    for i in range(n):\n",
    "        print(message)\n",
    "\n",
    "#nPrintln('hello',3)\n",
    "nPrintln(3,'hello')\n"
   ]
  },
  {
   "cell_type": "code",
   "execution_count": 37,
   "metadata": {},
   "outputs": [
    {
     "name": "stdout",
     "output_type": "stream",
     "text": [
      "13.333333333333334\n"
     ]
    }
   ],
   "source": [
    "#Keyword arguments\n",
    "def f(p1, p2, p3):\n",
    "    return ((p1+p2)/3)\n",
    "\n",
    "#Positional arguments call\n",
    "#print(f(20,45,5))\n",
    "#print(f(30, p2 = 4, p3 = 10))\n",
    "print(f(30, 10, p3 = 4))"
   ]
  },
  {
   "cell_type": "markdown",
   "metadata": {},
   "source": [
    "### Pass by value/reference"
   ]
  },
  {
   "cell_type": "code",
   "execution_count": 38,
   "metadata": {},
   "outputs": [
    {
     "name": "stdout",
     "output_type": "stream",
     "text": [
      "Before the call, x is 1\n",
      "\tn inside the function is 2\n",
      "After the call, x is 1\n"
     ]
    }
   ],
   "source": [
    "def increment(n):\n",
    "    n+=1\n",
    "    print(\"\\tn inside the function is\", n)\n",
    "\n",
    "x = 1\n",
    "print(\"Before the call, x is\", x)\n",
    "increment(x)\n",
    "print(\"After the call, x is\", x)"
   ]
  },
  {
   "cell_type": "code",
   "execution_count": 39,
   "metadata": {},
   "outputs": [
    {
     "name": "stdout",
     "output_type": "stream",
     "text": [
      "[23]\n",
      "[23, 42]\n"
     ]
    }
   ],
   "source": [
    "def f(x, y=[]):\n",
    "    #print(y)\n",
    "    y.append(x)\n",
    "    return y\n",
    "print (f(23)) # prints: [23]\n",
    "print (f(42))\n",
    "#print (f(42,[45,12,34]))"
   ]
  },
  {
   "cell_type": "code",
   "execution_count": 40,
   "metadata": {},
   "outputs": [
    {
     "name": "stdout",
     "output_type": "stream",
     "text": [
      "[23]\n",
      "[42]\n"
     ]
    }
   ],
   "source": [
    "def f(x, y=None):\n",
    "    if y is None: \n",
    "        y = []\n",
    "    y.append(x)\n",
    "    return y\n",
    "print (f(23)) # prints: [23]\n",
    "print (f(42)) "
   ]
  },
  {
   "cell_type": "markdown",
   "metadata": {},
   "source": [
    "### Scope - Local vs Global"
   ]
  },
  {
   "cell_type": "code",
   "execution_count": 41,
   "metadata": {},
   "outputs": [
    {
     "name": "stdout",
     "output_type": "stream",
     "text": [
      "1\n",
      "2\n",
      "1\n"
     ]
    },
    {
     "ename": "NameError",
     "evalue": "name 'localVar' is not defined",
     "output_type": "error",
     "traceback": [
      "\u001b[0;31m---------------------------------------------------------------------------\u001b[0m",
      "\u001b[0;31mNameError\u001b[0m                                 Traceback (most recent call last)",
      "\u001b[0;32m<ipython-input-41-cec5a0fc5ee4>\u001b[0m in \u001b[0;36m<module>\u001b[0;34m()\u001b[0m\n\u001b[1;32m      8\u001b[0m \u001b[0mf1\u001b[0m\u001b[1;33m(\u001b[0m\u001b[1;33m)\u001b[0m\u001b[1;33m\u001b[0m\u001b[0m\n\u001b[1;32m      9\u001b[0m \u001b[0mprint\u001b[0m\u001b[1;33m(\u001b[0m\u001b[0mglobalVar\u001b[0m\u001b[1;33m)\u001b[0m\u001b[1;33m\u001b[0m\u001b[0m\n\u001b[0;32m---> 10\u001b[0;31m \u001b[0mprint\u001b[0m\u001b[1;33m(\u001b[0m\u001b[0mlocalVar\u001b[0m\u001b[1;33m)\u001b[0m \u001b[1;31m# Out of scope, so this gives an error\u001b[0m\u001b[1;33m\u001b[0m\u001b[0m\n\u001b[0m",
      "\u001b[0;31mNameError\u001b[0m: name 'localVar' is not defined"
     ]
    }
   ],
   "source": [
    "#Scope of a variable\n",
    "globalVar = 1 #Created a global variable\n",
    "def f1():\n",
    "    localVar=2\n",
    "    print(globalVar)\n",
    "    print(localVar)\n",
    "\n",
    "f1()\n",
    "print(globalVar)\n",
    "print(localVar) # Out of scope, so this gives an error"
   ]
  },
  {
   "cell_type": "code",
   "execution_count": 42,
   "metadata": {},
   "outputs": [
    {
     "ename": "UnboundLocalError",
     "evalue": "local variable 'globalVar' referenced before assignment",
     "output_type": "error",
     "traceback": [
      "\u001b[0;31m---------------------------------------------------------------------------\u001b[0m",
      "\u001b[0;31mUnboundLocalError\u001b[0m                         Traceback (most recent call last)",
      "\u001b[0;32m<ipython-input-42-f533f89d3234>\u001b[0m in \u001b[0;36m<module>\u001b[0;34m()\u001b[0m\n\u001b[1;32m      7\u001b[0m     \u001b[0mprint\u001b[0m\u001b[1;33m(\u001b[0m\u001b[0mlocalVar\u001b[0m\u001b[1;33m)\u001b[0m\u001b[1;33m\u001b[0m\u001b[0m\n\u001b[1;32m      8\u001b[0m \u001b[1;33m\u001b[0m\u001b[0m\n\u001b[0;32m----> 9\u001b[0;31m \u001b[0mf1\u001b[0m\u001b[1;33m(\u001b[0m\u001b[1;33m)\u001b[0m\u001b[1;33m\u001b[0m\u001b[0m\n\u001b[0m\u001b[1;32m     10\u001b[0m \u001b[0mprint\u001b[0m\u001b[1;33m(\u001b[0m\u001b[0mglobalVar\u001b[0m\u001b[1;33m)\u001b[0m\u001b[1;33m\u001b[0m\u001b[0m\n",
      "\u001b[0;32m<ipython-input-42-f533f89d3234>\u001b[0m in \u001b[0;36mf1\u001b[0;34m()\u001b[0m\n\u001b[1;32m      3\u001b[0m \u001b[1;32mdef\u001b[0m \u001b[0mf1\u001b[0m\u001b[1;33m(\u001b[0m\u001b[1;33m)\u001b[0m\u001b[1;33m:\u001b[0m\u001b[1;33m\u001b[0m\u001b[0m\n\u001b[1;32m      4\u001b[0m     \u001b[0mlocalVar\u001b[0m\u001b[1;33m=\u001b[0m\u001b[1;36m2\u001b[0m\u001b[1;33m\u001b[0m\u001b[0m\n\u001b[0;32m----> 5\u001b[0;31m     \u001b[0mglobalVar\u001b[0m\u001b[1;33m+=\u001b[0m\u001b[1;36m1\u001b[0m \u001b[1;31m#No local variable present for modification - so error\u001b[0m\u001b[1;33m\u001b[0m\u001b[0m\n\u001b[0m\u001b[1;32m      6\u001b[0m     \u001b[0mprint\u001b[0m\u001b[1;33m(\u001b[0m\u001b[0mglobalVar\u001b[0m\u001b[1;33m)\u001b[0m\u001b[1;33m\u001b[0m\u001b[0m\n\u001b[1;32m      7\u001b[0m     \u001b[0mprint\u001b[0m\u001b[1;33m(\u001b[0m\u001b[0mlocalVar\u001b[0m\u001b[1;33m)\u001b[0m\u001b[1;33m\u001b[0m\u001b[0m\n",
      "\u001b[0;31mUnboundLocalError\u001b[0m: local variable 'globalVar' referenced before assignment"
     ]
    }
   ],
   "source": [
    "#Scope of a variable\n",
    "globalVar = 1 #Created a global variable\n",
    "def f1():\n",
    "    localVar=2\n",
    "    globalVar+=1 #No local variable present for modification - so error\n",
    "    print(globalVar)\n",
    "    print(localVar)\n",
    "\n",
    "f1()\n",
    "print(globalVar)"
   ]
  },
  {
   "cell_type": "code",
   "execution_count": 44,
   "metadata": {},
   "outputs": [
    {
     "name": "stdout",
     "output_type": "stream",
     "text": [
      "Inside function global 4\n",
      "2\n",
      "Outside function global 1\n"
     ]
    }
   ],
   "source": [
    "#Scope of a variable\n",
    "globalVar = 1 #Created a global variable\n",
    "def f1():\n",
    "    localVar=2\n",
    "    globalVar = 3 #Treated as a local variable with same name as the global one\n",
    "    globalVar+=1 \n",
    "    print(\"Inside function global\",globalVar)\n",
    "    print(localVar)\n",
    "\n",
    "f1()\n",
    "print(\"Outside function global\",globalVar)"
   ]
  },
  {
   "cell_type": "code",
   "execution_count": 43,
   "metadata": {},
   "outputs": [
    {
     "name": "stdout",
     "output_type": "stream",
     "text": [
      "Inside function global 4\n",
      "2\n",
      "Outside function global 4\n"
     ]
    }
   ],
   "source": [
    "globalVar = 1 #Created a global variable\n",
    "def f1():\n",
    "    localVar=2\n",
    "    global globalVar #Use the global variable\n",
    "    globalVar = 3\n",
    "    globalVar+=1 \n",
    "    print(\"Inside function global\",globalVar)\n",
    "    print(localVar)\n",
    "\n",
    "f1()\n",
    "print(\"Outside function global\",globalVar)"
   ]
  },
  {
   "cell_type": "code",
   "execution_count": 45,
   "metadata": {},
   "outputs": [
    {
     "name": "stdout",
     "output_type": "stream",
     "text": [
      "1\n",
      "6\n"
     ]
    }
   ],
   "source": [
    "def counter( ):\n",
    "    counter.count += 1\n",
    "    print(cnt)\n",
    "    return counter.count\n",
    "counter.count = 5 #Create and Initialize function variable outside the fucntion\n",
    "cnt=1\n",
    "print(counter())  "
   ]
  },
  {
   "cell_type": "markdown",
   "metadata": {},
   "source": [
    "### Default Arguments"
   ]
  },
  {
   "cell_type": "code",
   "execution_count": 46,
   "metadata": {},
   "outputs": [
    {
     "name": "stdout",
     "output_type": "stream",
     "text": [
      "width: 1 \theight: 2 \tarea: 2\n",
      "width: 4 \theight: 2.5 \tarea: 10.0\n",
      "width: 3 \theight: 5 \tarea: 15\n",
      "width: 1.2 \theight: 2 \tarea: 2.4\n",
      "width: 1 \theight: 6.2 \tarea: 6.2\n"
     ]
    }
   ],
   "source": [
    "#Default Arguments\n",
    "def printArea(width=1, height=2):\n",
    "    area = width * height\n",
    "    print(\"width:\", width, \"\\theight:\", height, \"\\tarea:\", area)\n",
    "\n",
    "printArea()# Default arguments width = 1 and height = 2\n",
    "printArea(4, 2.5)# Positional arguments width = 4 and height = 2.5\n",
    "printArea(height = 5, width = 3)# Keyword arguments width\n",
    "printArea(width = 1.2)# Default height = 2\n",
    "printArea(height = 6.2) # Default width = 1"
   ]
  },
  {
   "cell_type": "markdown",
   "metadata": {},
   "source": [
    "### *args and **kwargs"
   ]
  },
  {
   "cell_type": "code",
   "execution_count": 47,
   "metadata": {},
   "outputs": [
    {
     "name": "stdout",
     "output_type": "stream",
     "text": [
      "(23, 42, 21)\n",
      "86\n"
     ]
    }
   ],
   "source": [
    "def sum_args(*numbers):\n",
    "    '''Accept arbitrary numerical arguments and return their sum.\n",
    "    The arguments are zero or more numbers. The result is their sum.'''\n",
    "    print(numbers)\n",
    "    return sum(numbers)\n",
    "print (sum_args(23, 42, 21))"
   ]
  },
  {
   "cell_type": "code",
   "execution_count": 48,
   "metadata": {},
   "outputs": [
    {
     "name": "stdout",
     "output_type": "stream",
     "text": [
      "{'ver_name': '3.14', 'prog_name': 'python'}\n",
      "dict_items([('ver_name', '3.14'), ('prog_name', 'python')])\n",
      "ver_name 3.14\n",
      "prog_name python\n"
     ]
    }
   ],
   "source": [
    "def print_values(**kwargs):\n",
    "    print(kwargs)\n",
    "    print(kwargs.items())\n",
    "    for key, value in kwargs.items():\n",
    "        print(key, value)\n",
    "\n",
    "print_values(prog_name=\"python\", ver_name=\"3.14\")"
   ]
  },
  {
   "cell_type": "markdown",
   "metadata": {},
   "source": [
    "### Lambda functions"
   ]
  },
  {
   "cell_type": "code",
   "execution_count": 51,
   "metadata": {},
   "outputs": [
    {
     "name": "stdout",
     "output_type": "stream",
     "text": [
      "64\n",
      "64\n"
     ]
    }
   ],
   "source": [
    "def f (x): return x**2 \n",
    "print(f(8))\n",
    "\n",
    "g = lambda x,y: x**y\n",
    "print(g(8,2))"
   ]
  },
  {
   "cell_type": "code",
   "execution_count": 52,
   "metadata": {},
   "outputs": [
    {
     "name": "stdout",
     "output_type": "stream",
     "text": [
      "[18, 9, 24, 12, 27]\n",
      "[14, 46, 28, 54, 44, 58, 26, 34, 64]\n"
     ]
    }
   ],
   "source": [
    "foo = [2, 18, 9, 22, 17, 24, 8, 12, 27]\n",
    "print(list(filter(lambda x: x % 3 == 0, foo)))\n",
    "\n",
    "print (list(map(lambda x: x * 2 + 10, foo)))"
   ]
  },
  {
   "cell_type": "code",
   "execution_count": null,
   "metadata": {
    "collapsed": true
   },
   "outputs": [],
   "source": []
  }
 ],
 "metadata": {
  "anaconda-cloud": {},
  "kernelspec": {
   "display_name": "Python 3",
   "language": "python",
   "name": "python3"
  },
  "language_info": {
   "codemirror_mode": {
    "name": "ipython",
    "version": 3
   },
   "file_extension": ".py",
   "mimetype": "text/x-python",
   "name": "python",
   "nbconvert_exporter": "python",
   "pygments_lexer": "ipython3",
   "version": "3.7.3"
  }
 },
 "nbformat": 4,
 "nbformat_minor": 1
}
