{
 "cells": [
  {
   "cell_type": "code",
   "execution_count": 1,
   "metadata": {},
   "outputs": [
    {
     "name": "stdout",
     "output_type": "stream",
     "text": [
      "s\n",
      "p\tam \n",
      "\n"
     ]
    }
   ],
   "source": [
    "S = 's\\np\\tam \\n'\n",
    "print (S)"
   ]
  },
  {
   "cell_type": "code",
   "execution_count": 2,
   "metadata": {},
   "outputs": [
    {
     "name": "stdout",
     "output_type": "stream",
     "text": [
      "welcomeAll\n",
      "welcomewelcomewelcome\n",
      "e\n",
      "lc\n",
      "7\n"
     ]
    }
   ],
   "source": [
    "S1='welcome'\n",
    "S2='All'\n",
    "print (S1 + S2) #Concatenate\n",
    "print (S1 * 3)   #repeat\n",
    "print (S1[1]) #indexing\n",
    "print (S1[2:4]) #slicing\n",
    "print (len(S1)) #length"
   ]
  },
  {
   "cell_type": "code",
   "execution_count": 3,
   "metadata": {},
   "outputs": [
    {
     "name": "stdout",
     "output_type": "stream",
     "text": [
      "2\n",
      "3\n",
      "paxxoT,/Duck,cock\n",
      "paxroT,/Duck,cock\n",
      "['parroT', '/Duck', 'cock']\n",
      "False\n",
      "parrot,/duck,cock\n",
      "PARROT,/DUCK,COCK\n"
     ]
    }
   ],
   "source": [
    "S='parroT,/Duck,cock'\n",
    "print (S.find('r',0,5))\n",
    "print (S.rfind('r',0,5))\n",
    "print (S.replace('r', 'x'))#replace all\n",
    "print (S.replace('r', 'x', 1))#replace one\n",
    "print (S.split(','))\n",
    "print (S.isdigit())\n",
    "print (S.lower())\n",
    "print (S.upper())"
   ]
  },
  {
   "cell_type": "code",
   "execution_count": 4,
   "metadata": {},
   "outputs": [
    {
     "name": "stdout",
     "output_type": "stream",
     "text": [
      "  wellcome\n",
      "1wellcome \n",
      "wellcome\n"
     ]
    }
   ],
   "source": [
    "s3='  wellcome  '\n",
    "s4='1wellcome 123'\n",
    "print (s3.rstrip()) #removes white space\n",
    "print (s4.rstrip('123')) #removes 123\n",
    "print (s3.strip())"
   ]
  },
  {
   "cell_type": "code",
   "execution_count": 5,
   "metadata": {
    "scrolled": true
   },
   "outputs": [
    {
     "name": "stdout",
     "output_type": "stream",
     "text": [
      "True\n",
      "False\n",
      "eve***night***dawn\n"
     ]
    }
   ],
   "source": [
    "S='morning'\n",
    "strlist=['eve','night','dawn']\n",
    "print (S.endswith('ing'))\n",
    "print (S.startswith('ing'))\n",
    "print ('***'.join(strlist))\n",
    "#print S.encode('latin-1') #encode"
   ]
  },
  {
   "cell_type": "code",
   "execution_count": 6,
   "metadata": {},
   "outputs": [
    {
     "data": {
      "text/plain": [
       "['mm', 'oo', 'rr', 'nn', 'ii', 'nn', 'gg']"
      ]
     },
     "execution_count": 6,
     "metadata": {},
     "output_type": "execute_result"
    }
   ],
   "source": [
    "[c * 2 for c in S]"
   ]
  },
  {
   "cell_type": "code",
   "execution_count": 7,
   "metadata": {},
   "outputs": [
    {
     "name": "stdout",
     "output_type": "stream",
     "text": [
      "65\n",
      "[109, 111, 114, 110, 105, 110, 103]\n",
      "53\n",
      "6\n"
     ]
    }
   ],
   "source": [
    "S=\"morning\"\n",
    "print(ord('A'))\n",
    "print (list((map(ord, S))))#map(fun,sequence)\n",
    "S = '5'\n",
    "print(ord('5'))\n",
    "S = chr(ord(S) + 1)\n",
    "print (S)"
   ]
  },
  {
   "cell_type": "code",
   "execution_count": null,
   "metadata": {},
   "outputs": [],
   "source": [
    "print ('akshay\\'s brother')"
   ]
  },
  {
   "cell_type": "code",
   "execution_count": null,
   "metadata": {},
   "outputs": [],
   "source": [
    "title = \"Life \" 'is' \" beautiful\"  # Implicit concatenation\n",
    "print (title)"
   ]
  },
  {
   "cell_type": "code",
   "execution_count": null,
   "metadata": {},
   "outputs": [],
   "source": [
    "print ('Teacher\\'s', \"parent\\\"s\")\n",
    "#read other escape sequences from book page 159 "
   ]
  },
  {
   "cell_type": "code",
   "execution_count": null,
   "metadata": {},
   "outputs": [],
   "source": [
    "x = \"C:\\py\\code\"  # Keeps \\ literally\n",
    "print (x)\n",
    "\n",
    "#print (len(x))\n",
    "x"
   ]
  },
  {
   "cell_type": "code",
   "execution_count": null,
   "metadata": {},
   "outputs": [],
   "source": [
    "myjob = \"hacker\"\n",
    "for c in myjob: \n",
    "    print (c)"
   ]
  },
  {
   "cell_type": "code",
   "execution_count": 8,
   "metadata": {},
   "outputs": [
    {
     "name": "stdout",
     "output_type": "stream",
     "text": [
      "adgjmp\n",
      "unkheb\n"
     ]
    }
   ],
   "source": [
    "S = 'abcdefghijklmnopu'\n",
    "print (S[::3])\n",
    "\n",
    "print (S[::-3])\n"
   ]
  },
  {
   "cell_type": "code",
   "execution_count": 9,
   "metadata": {},
   "outputs": [
    {
     "name": "stdout",
     "output_type": "stream",
     "text": [
      "de\n"
     ]
    }
   ],
   "source": [
    "S = 'abcedfg'\n",
    "print (S[4:2:-1])\n"
   ]
  },
  {
   "cell_type": "code",
   "execution_count": null,
   "metadata": {},
   "outputs": [],
   "source": [
    "print ('spam'[slice(1, 3)]) #'spam'[1:3]"
   ]
  },
  {
   "cell_type": "code",
   "execution_count": null,
   "metadata": {},
   "outputs": [],
   "source": [
    "'spam'[slice(None, None, -1)]#'spam'[::-1]"
   ]
  },
  {
   "cell_type": "code",
   "execution_count": null,
   "metadata": {
    "collapsed": true
   },
   "outputs": [],
   "source": [
    "#print(str('spam'), repr('spam'))"
   ]
  },
  {
   "cell_type": "code",
   "execution_count": 10,
   "metadata": {},
   "outputs": [
    {
     "data": {
      "text/plain": [
       "13"
      ]
     },
     "execution_count": 10,
     "metadata": {},
     "output_type": "execute_result"
    }
   ],
   "source": [
    "int('1101', 2)"
   ]
  },
  {
   "cell_type": "code",
   "execution_count": 11,
   "metadata": {},
   "outputs": [
    {
     "data": {
      "text/plain": [
       "'0b1101'"
      ]
     },
     "execution_count": 11,
     "metadata": {},
     "output_type": "execute_result"
    }
   ],
   "source": [
    "bin(13)\n"
   ]
  },
  {
   "cell_type": "code",
   "execution_count": 12,
   "metadata": {},
   "outputs": [
    {
     "data": {
      "text/plain": [
       "'spamalot'"
      ]
     },
     "execution_count": 12,
     "metadata": {},
     "output_type": "execute_result"
    }
   ],
   "source": [
    "S = 'splot'\n",
    "S = S.replace('pl', 'pamal')\n",
    "S"
   ]
  },
  {
   "cell_type": "code",
   "execution_count": 13,
   "metadata": {
    "scrolled": true
   },
   "outputs": [
    {
     "name": "stdout",
     "output_type": "stream",
     "text": [
      "Good morning\n",
      "wellcome0000000\n",
      "----wellcome---\n",
      "2\n",
      "2\n"
     ]
    }
   ],
   "source": [
    "#from string import maketrans\n",
    "#string works  only in 2.7\n",
    "S=\"wellcome\"\n",
    "print (\"good morning\".capitalize()) \n",
    "print (S.ljust(15,'0'))\n",
    "print (S.center(15 ,'-') )\n",
    "print (S.count('l',1 ,5)) \n",
    "print(S.count('l'))\n",
    "#tr=maketrans('aeiou','12345')\n",
    "#print (S.translate(tr))\n"
   ]
  },
  {
   "cell_type": "code",
   "execution_count": null,
   "metadata": {},
   "outputs": [],
   "source": [
    "S='hello john'\n",
    "print (S.partition(\" \"))\n",
    "print (S.split(' '))\n",
    "print (S.index('lo'))\n",
    "print ('a'.isalpha())\n",
    "print (S.isdigit())\n",
    "#refer text book for more built in function for strings\n",
    "\n"
   ]
  },
  {
   "cell_type": "code",
   "execution_count": 14,
   "metadata": {},
   "outputs": [
    {
     "name": "stdout",
     "output_type": "stream",
     "text": [
      "Original string: this is\tstring example....wow!!!\n",
      "Defualt exapanded tab: this is string example....wow!!!\n",
      "Double exapanded tab: this is         string example....wow!!!\n"
     ]
    }
   ],
   "source": [
    "str = \"this is\\tstring example....wow!!!\";\n",
    "print (\"Original string: \" + str)\n",
    "print (\"Defualt exapanded tab: \" +  str.expandtabs())\n",
    "print (\"Double exapanded tab: \" +  str.expandtabs(16))"
   ]
  },
  {
   "cell_type": "code",
   "execution_count": 15,
   "metadata": {},
   "outputs": [
    {
     "name": "stdout",
     "output_type": "stream",
     "text": [
      "True\n",
      "False\n"
     ]
    }
   ],
   "source": [
    "str = \"w2\";  \n",
    "print (str.isalnum())\n",
    "print (str.isdigit())"
   ]
  },
  {
   "cell_type": "code",
   "execution_count": 16,
   "metadata": {},
   "outputs": [
    {
     "name": "stdout",
     "output_type": "stream",
     "text": [
      "True\n"
     ]
    }
   ],
   "source": [
    "d=\"1234\"\n",
    "print (d.isdecimal()) \n",
    "\n"
   ]
  },
  {
   "cell_type": "code",
   "execution_count": null,
   "metadata": {},
   "outputs": [],
   "source": [
    "#in 2.7\n",
    "import string\n",
    "S='a+b+c'\n",
    "y = string.replace(S, '+', 'spam')\n",
    "print (y)"
   ]
  },
  {
   "cell_type": "code",
   "execution_count": 17,
   "metadata": {},
   "outputs": [
    {
     "data": {
      "text/plain": [
       "'That is 1 pretty bird!'"
      ]
     },
     "execution_count": 17,
     "metadata": {},
     "output_type": "execute_result"
    }
   ],
   "source": [
    "'That is %d %s bird!' % (1, 'pretty')"
   ]
  },
  {
   "cell_type": "code",
   "execution_count": 2,
   "metadata": {},
   "outputs": [
    {
     "data": {
      "text/plain": [
       "'42 -- 3.14159 -- [1, 2, 3]'"
      ]
     },
     "execution_count": 2,
     "metadata": {},
     "output_type": "execute_result"
    }
   ],
   "source": [
    "\"%s -- %s -- %s\" % (42, 3.14159, [1, 2, 3])#Auto converts to string"
   ]
  },
  {
   "cell_type": "code",
   "execution_count": 18,
   "metadata": {},
   "outputs": [
    {
     "name": "stdout",
     "output_type": "stream",
     "text": [
      "integers: ...1234...1234  ...001234\n"
     ]
    }
   ],
   "source": [
    "x = 1234\n",
    "res = \"integers: ...%d...%-6d...%06d\" % (x, x, x)\n",
    "print (res)"
   ]
  },
  {
   "cell_type": "code",
   "execution_count": 19,
   "metadata": {},
   "outputs": [
    {
     "data": {
      "text/plain": [
       "'1.234000e+03 | 1234.000000 | 1234'"
      ]
     },
     "execution_count": 19,
     "metadata": {},
     "output_type": "execute_result"
    }
   ],
   "source": [
    "'''%f prints the corresponding number as a decimal floating point number, e.g. 321.65.\n",
    "\n",
    "%e prints the number in scientific notation, e.g. 3.2165e+2.\n",
    "\n",
    "%g prints the number in the shortest of these two representations'''\n",
    "\n",
    "'%e | %f | %g' % (x, x, x)\n"
   ]
  },
  {
   "cell_type": "code",
   "execution_count": 5,
   "metadata": {},
   "outputs": [
    {
     "data": {
      "text/plain": [
       "'1.234000E+03'"
      ]
     },
     "execution_count": 5,
     "metadata": {},
     "output_type": "execute_result"
    }
   ],
   "source": [
    "'%E' % x\n"
   ]
  },
  {
   "cell_type": "code",
   "execution_count": 7,
   "metadata": {},
   "outputs": [
    {
     "data": {
      "text/plain": [
       "'1234.00000000000000000000           | 001234.00 | 123456.0'"
      ]
     },
     "execution_count": 7,
     "metadata": {},
     "output_type": "execute_result"
    }
   ],
   "source": [
    "x=1234\n",
    "'%-35.20f | %09.2f | %06.1f' % (x, x, 123456)"
   ]
  },
  {
   "cell_type": "code",
   "execution_count": 6,
   "metadata": {},
   "outputs": [
    {
     "data": {
      "text/plain": [
       "'1 spam'"
      ]
     },
     "execution_count": 6,
     "metadata": {},
     "output_type": "execute_result"
    }
   ],
   "source": [
    " \"%(n)d %(x)s\" % {\"x\":\"spam\",\"n\":1}#Key value pairs"
   ]
  },
  {
   "cell_type": "code",
   "execution_count": 7,
   "metadata": {},
   "outputs": [
    {
     "name": "stdout",
     "output_type": "stream",
     "text": [
      "  \n",
      "Greetings...\n",
      "Hello Bob!\n",
      "Your age squared is 40\n",
      "\n"
     ]
    }
   ],
   "source": [
    "# Template with substitution targets\n",
    "reply = \"\"\"  \n",
    "Greetings...\n",
    "Hello %(name)s!\n",
    "Your age squared is %(age)s\n",
    "\"\"\"\n",
    "values = {'name': 'Bob', 'age': 40}  # Build up values to substitute\n",
    "print(reply % values)  # Perform substitutions"
   ]
  },
  {
   "cell_type": "code",
   "execution_count": 8,
   "metadata": {},
   "outputs": [
    {
     "name": "stdout",
     "output_type": "stream",
     "text": [
      "He loves open source.\n"
     ]
    }
   ],
   "source": [
    "open_string = \"He loves {}.\"\n",
    "print(open_string.format(\"open source\"))"
   ]
  },
  {
   "cell_type": "code",
   "execution_count": 9,
   "metadata": {},
   "outputs": [
    {
     "data": {
      "text/plain": [
       "'That is 1 nice bird!'"
      ]
     },
     "execution_count": 9,
     "metadata": {},
     "output_type": "execute_result"
    }
   ],
   "source": [
    "'That is {0} {1} bird!'.format(1, 'nice')"
   ]
  },
  {
   "cell_type": "code",
   "execution_count": 10,
   "metadata": {},
   "outputs": [
    {
     "data": {
      "text/plain": [
       "'spam, spot  ham and eggs '"
      ]
     },
     "execution_count": 10,
     "metadata": {},
     "output_type": "execute_result"
    }
   ],
   "source": [
    "template = '{motto}, {1}  {0} and {food} '  # By both\n",
    "template.format('ham','spot', motto='spam', food='eggs')"
   ]
  },
  {
   "cell_type": "code",
   "execution_count": 11,
   "metadata": {},
   "outputs": [
    {
     "data": {
      "text/plain": [
       "'My laptop runs win32'"
      ]
     },
     "execution_count": 11,
     "metadata": {},
     "output_type": "execute_result"
    }
   ],
   "source": [
    "import sys\n",
    "'My {1[spam]} runs {0.platform}'.format(sys, {'spam': 'laptop','value':'phone'})#numbering is done"
   ]
  },
  {
   "cell_type": "code",
   "execution_count": 12,
   "metadata": {},
   "outputs": [
    {
     "data": {
      "text/plain": [
       "'first=S, third=A'"
      ]
     },
     "execution_count": 12,
     "metadata": {},
     "output_type": "execute_result"
    }
   ],
   "source": [
    "somelist = list('SPAM')\n",
    "#somelist=['S', 'P', 'A', 'M']\n",
    "\n",
    "'first={0[0]}, third={0[2]}'.format(somelist)\n",
    "\n"
   ]
  },
  {
   "cell_type": "code",
   "execution_count": 13,
   "metadata": {},
   "outputs": [
    {
     "data": {
      "text/plain": [
       "'first=S, last=M'"
      ]
     },
     "execution_count": 13,
     "metadata": {},
     "output_type": "execute_result"
    }
   ],
   "source": [
    "'first={0}, last={1}'.format(somelist[0], somelist[-1])"
   ]
  },
  {
   "cell_type": "code",
   "execution_count": 15,
   "metadata": {},
   "outputs": [
    {
     "name": "stdout",
     "output_type": "stream",
     "text": [
      "('S', 'M', ['P', 'A'])\n",
      "first=S, last=M, middle=['P', 'A']\n"
     ]
    }
   ],
   "source": [
    "parts = somelist[0], somelist[-1], somelist[1:3]\n",
    "print (parts)# [1:3] fails in fmt\n",
    "print('first={0}, last={1}, middle={2}'.format(*parts))#* collects all the positional arguments in a tuple"
   ]
  },
  {
   "cell_type": "code",
   "execution_count": null,
   "metadata": {
    "collapsed": true
   },
   "outputs": [],
   "source": []
  }
 ],
 "metadata": {
  "anaconda-cloud": {},
  "kernelspec": {
   "display_name": "Python 3",
   "language": "python",
   "name": "python3"
  },
  "language_info": {
   "codemirror_mode": {
    "name": "ipython",
    "version": 3
   },
   "file_extension": ".py",
   "mimetype": "text/x-python",
   "name": "python",
   "nbconvert_exporter": "python",
   "pygments_lexer": "ipython3",
   "version": "3.7.3"
  }
 },
 "nbformat": 4,
 "nbformat_minor": 1
}
