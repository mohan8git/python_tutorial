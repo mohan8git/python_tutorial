{
 "cells": [
  {
   "cell_type": "markdown",
   "metadata": {},
   "source": [
    "### Create dictionaries"
   ]
  },
  {
   "cell_type": "code",
   "execution_count": null,
   "metadata": {},
   "outputs": [],
   "source": [
    "#Using curly braces\n",
    "d1={}\n",
    "d2={'one':1,'two':2,'three':3,'four':4}\n",
    "d3={'one':1}\n",
    "\n",
    "print (d1)\n",
    "print (d2)\n",
    "print (d3)"
   ]
  },
  {
   "cell_type": "code",
   "execution_count": null,
   "metadata": {},
   "outputs": [],
   "source": [
    "#Using dict method\n",
    "print (dict(one=1))\n",
    "D = dict(a=1, b=2, c=3)#Order not preservedS\n",
    "print(D)\n",
    "print (dict([[1,2],[4,3]]))\n",
    "print (dict.fromkeys('hello', 2)) # same as {'h':2, 'e':2, 'l':2, 'o':2}\n",
    "print (dict.fromkeys([1, 2, 3])) # same as {1:None, 2:None, 3:None}"
   ]
  },
  {
   "cell_type": "code",
   "execution_count": null,
   "metadata": {},
   "outputs": [],
   "source": [
    "#From other sequences - tuple/list\n",
    "seq = ('name', 'age', 'sex')\n",
    "dict1 = dict.fromkeys(seq)\n",
    "print (\"New Dictionary dict 1: %s\" %  str(dict1))\n",
    "#seq2=(1,2,3)\n",
    "dict2 = dict.fromkeys(seq, 10)\n",
    "print (\"New Dictionary dict 2: %s\" %  str(dict2))"
   ]
  },
  {
   "cell_type": "code",
   "execution_count": null,
   "metadata": {},
   "outputs": [],
   "source": [
    "#Create using zip method\n",
    "keyslist=[1,2,3]\n",
    "valslist=[4,5,6]\n",
    "D = dict(zip(keyslist, valslist))\n",
    "print(D)"
   ]
  },
  {
   "cell_type": "code",
   "execution_count": null,
   "metadata": {},
   "outputs": [],
   "source": [
    "#Create using zip method\n",
    "print (list(zip(['a', 'b', 'c'], [1, 2, 3])))  # Zip together keys and values\n",
    "\n",
    "D = dict(zip(['a', 'b', 'c'], [1, 2, 3]))  # Make a dict from zip result\n",
    "print(D)"
   ]
  },
  {
   "cell_type": "code",
   "execution_count": null,
   "metadata": {},
   "outputs": [],
   "source": [
    "#Duplicate keys are not allowed\n",
    "a = {'name': 'sonu', 'name': 'reshma'}\n",
    "print(a)"
   ]
  },
  {
   "cell_type": "markdown",
   "metadata": {},
   "source": [
    "### Accessing elements"
   ]
  },
  {
   "cell_type": "code",
   "execution_count": null,
   "metadata": {},
   "outputs": [],
   "source": [
    "#Get value by passing a key\n",
    "print (d2['two'])\n",
    "print (d2.get('five','not available'))\n",
    "print (d2.get('four'))"
   ]
  },
  {
   "cell_type": "code",
   "execution_count": null,
   "metadata": {},
   "outputs": [],
   "source": [
    "#Nested dictionaries\n",
    "F = {'food': {'ham': 1, 'egg': 2}}\n",
    "print(F['food']['ham'])"
   ]
  },
  {
   "cell_type": "code",
   "execution_count": null,
   "metadata": {},
   "outputs": [],
   "source": [
    "#Get keys, values or key value pairs for traversing\n",
    "print('six' in d2)\n",
    "print (d2.items())\n",
    "print (d2.keys())\n",
    "print (d2.values())\n",
    "print (d2)"
   ]
  },
  {
   "cell_type": "markdown",
   "metadata": {},
   "source": [
    "### Dictionary operations - copy, update, pop, popitem, clear, setdefault"
   ]
  },
  {
   "cell_type": "code",
   "execution_count": null,
   "metadata": {},
   "outputs": [],
   "source": [
    "#Dictionary operations - copy, update, pop, popitem, clear, setdefault\n",
    "print(D.copy())#Returns a new copy of the dictionary\n",
    "D2={'one':1}\n",
    "\n",
    "D.update(D2)#Similar to concatenate-Add elements of one dictionary to another\n",
    "print(D) \n"
   ]
  },
  {
   "cell_type": "code",
   "execution_count": null,
   "metadata": {
    "scrolled": true
   },
   "outputs": [],
   "source": [
    "print(D.pop('one'))#Remove elements by key - Returns value of element removed\n",
    "print(D)\n",
    "\n",
    "print(D.popitem()) #Removes arbitrary item - Returns key value pair\n",
    "print(D)"
   ]
  },
  {
   "cell_type": "code",
   "execution_count": null,
   "metadata": {},
   "outputs": [],
   "source": [
    "print(D.clear())\n",
    "print(D)"
   ]
  },
  {
   "cell_type": "markdown",
   "metadata": {},
   "source": [
    "### Dictionary Comprehension"
   ]
  },
  {
   "cell_type": "code",
   "execution_count": null,
   "metadata": {},
   "outputs": [],
   "source": [
    "l = [1,2,3,4,5]\n",
    "d1 = {str(i):i for i in l}\n",
    "print(d1)"
   ]
  },
  {
   "cell_type": "code",
   "execution_count": null,
   "metadata": {},
   "outputs": [],
   "source": [
    "l = ['red','orange','blue','violet']\n",
    "d2 = {i:len(i) for i in l}\n",
    "print(d2)"
   ]
  },
  {
   "cell_type": "code",
   "execution_count": null,
   "metadata": {},
   "outputs": [],
   "source": [
    "#Create a dictionary from enumerating a list using comrpehension\n",
    "l = ['one','two','three']\n",
    "en = list(enumerate(l,start=9))\n",
    "print(en)"
   ]
  },
  {
   "cell_type": "code",
   "execution_count": null,
   "metadata": {},
   "outputs": [],
   "source": [
    "d3 = {i:j for i,j in enumerate(l,start=6)}\n",
    "print(d3)"
   ]
  }
 ],
 "metadata": {
  "anaconda-cloud": {},
  "kernelspec": {
   "display_name": "Python 3",
   "language": "python",
   "name": "python3"
  },
  "language_info": {
   "codemirror_mode": {
    "name": "ipython",
    "version": 3
   },
   "file_extension": ".py",
   "mimetype": "text/x-python",
   "name": "python",
   "nbconvert_exporter": "python",
   "pygments_lexer": "ipython3",
   "version": "3.7.3"
  }
 },
 "nbformat": 4,
 "nbformat_minor": 1
}
