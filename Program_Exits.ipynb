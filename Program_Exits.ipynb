{
 "cells": [
  {
   "cell_type": "markdown",
   "metadata": {},
   "source": [
    "### Program Exits"
   ]
  },
  {
   "cell_type": "code",
   "execution_count": 3,
   "metadata": {},
   "outputs": [
    {
     "name": "stdout",
     "output_type": "stream",
     "text": [
      "ignoring exit\n"
     ]
    }
   ],
   "source": [
    "import sys\n",
    "try:\n",
    "    sys.exit(14)\n",
    "    print('Never reached')\n",
    "except SystemExit:\n",
    "    print('ignoring exit')"
   ]
  },
  {
   "cell_type": "code",
   "execution_count": null,
   "metadata": {
    "collapsed": true
   },
   "outputs": [],
   "source": [
    "import os\n",
    "try:\n",
    "    os._exit(0)\n",
    "except SystemExit:\n",
    "    print('ignoring exit')\n",
    "#Used in processes that wants immediate exit without throwing exceptions\n",
    "#This exit does not flush output stream buffers \n",
    "#- Used by child processes in forks where overall shutdown is not required"
   ]
  },
  {
   "cell_type": "markdown",
   "metadata": {},
   "source": [
    "### Modules"
   ]
  },
  {
   "cell_type": "code",
   "execution_count": 1,
   "metadata": {},
   "outputs": [],
   "source": [
    "#This is the content of somefile.py\n",
    "class className:\n",
    "    def mthod(self):\n",
    "        print(\"In class method\")\n",
    "\n",
    "def myFunction():\n",
    "    print(\"Inside function\")"
   ]
  },
  {
   "cell_type": "code",
   "execution_count": 2,
   "metadata": {},
   "outputs": [
    {
     "ename": "ModuleNotFoundError",
     "evalue": "No module named 'somefile'",
     "output_type": "error",
     "traceback": [
      "\u001b[1;31m---------------------------------------------------------------------------\u001b[0m",
      "\u001b[1;31mModuleNotFoundError\u001b[0m                       Traceback (most recent call last)",
      "\u001b[1;32m<ipython-input-2-6abc7cc7c6b7>\u001b[0m in \u001b[0;36m<module>\u001b[1;34m\u001b[0m\n\u001b[1;32m----> 1\u001b[1;33m \u001b[1;32mimport\u001b[0m \u001b[0msomefile\u001b[0m\u001b[1;33m\u001b[0m\u001b[1;33m\u001b[0m\u001b[0m\n\u001b[0m\u001b[0;32m      2\u001b[0m \u001b[1;31m# myFunction()\u001b[0m\u001b[1;33m\u001b[0m\u001b[1;33m\u001b[0m\u001b[1;33m\u001b[0m\u001b[0m\n\u001b[0;32m      3\u001b[0m \u001b[0msomefile\u001b[0m\u001b[1;33m.\u001b[0m\u001b[0mmyFunction\u001b[0m\u001b[1;33m(\u001b[0m\u001b[1;33m)\u001b[0m\u001b[1;33m\u001b[0m\u001b[1;33m\u001b[0m\u001b[0m\n",
      "\u001b[1;31mModuleNotFoundError\u001b[0m: No module named 'somefile'"
     ]
    }
   ],
   "source": [
    "import somefile\n",
    "# myFunction()\n",
    "somefile.myFunction()"
   ]
  },
  {
   "cell_type": "code",
   "execution_count": 7,
   "metadata": {},
   "outputs": [
    {
     "name": "stdout",
     "output_type": "stream",
     "text": [
      "Inside function\n",
      "In class method\n"
     ]
    }
   ],
   "source": [
    "from somefile import *\n",
    "myFunction()\n",
    "#ins1 = className()\n",
    "#ins1.mthod()"
   ]
  },
  {
   "cell_type": "code",
   "execution_count": 8,
   "metadata": {},
   "outputs": [
    {
     "name": "stdout",
     "output_type": "stream",
     "text": [
      "In class method\n",
      "Inside function\n"
     ]
    }
   ],
   "source": [
    "from somefile import className\n",
    "ins1 = className()\n",
    "ins1.mthod()\n",
    "myFunction()"
   ]
  },
  {
   "cell_type": "markdown",
   "metadata": {},
   "source": [
    "### Iterators"
   ]
  },
  {
   "cell_type": "code",
   "execution_count": null,
   "metadata": {
    "collapsed": true
   },
   "outputs": [],
   "source": [
    "L = [1, 2, 3]\n",
    "I = iter(L)  # Obtain an iterator object\n",
    "print(I.__next__())  # Call next to advance to next item\n",
    "print(I.__next__())\n",
    "print(I.__next__())\n",
    "print(I.__next__())#Throws StopIteration exception when no more elements are found"
   ]
  },
  {
   "cell_type": "code",
   "execution_count": 10,
   "metadata": {},
   "outputs": [
    {
     "name": "stdout",
     "output_type": "stream",
     "text": [
      "1\n",
      "2\n",
      "3\n",
      "4\n",
      "5\n",
      "6\n",
      "no more items\n"
     ]
    }
   ],
   "source": [
    "L=[1,2,3,4,5,6]\n",
    "I=iter(L)\n",
    "while True:\n",
    "    try:  # try statement catches exceptions\n",
    "        X = next(I)  # Or call I.__next__\n",
    "        print(X)\n",
    "    except StopIteration:\n",
    "        print(\"no more items\")\n",
    "        break"
   ]
  },
  {
   "cell_type": "code",
   "execution_count": 11,
   "metadata": {},
   "outputs": [
    {
     "name": "stdout",
     "output_type": "stream",
     "text": [
      "a\n",
      "c\n",
      "b\n"
     ]
    }
   ],
   "source": [
    "#On dictionaries\n",
    "D = {'a':1, 'b':2, 'c':3}\n",
    "I = iter(D)\n",
    "print(next(I))\n",
    "print(next(I))\n",
    "print(next(I))"
   ]
  },
  {
   "cell_type": "code",
   "execution_count": 12,
   "metadata": {},
   "outputs": [
    {
     "name": "stdout",
     "output_type": "stream",
     "text": [
      "0\n",
      "1\n",
      "2\n"
     ]
    },
    {
     "ename": "StopIteration",
     "evalue": "",
     "output_type": "error",
     "traceback": [
      "\u001b[0;31m---------------------------------------------------------------------------\u001b[0m",
      "\u001b[0;31mStopIteration\u001b[0m                             Traceback (most recent call last)",
      "\u001b[0;32m<ipython-input-12-c088eff76825>\u001b[0m in \u001b[0;36m<module>\u001b[0;34m()\u001b[0m\n\u001b[1;32m      6\u001b[0m \u001b[0mprint\u001b[0m\u001b[1;33m(\u001b[0m\u001b[0mnext\u001b[0m\u001b[1;33m(\u001b[0m\u001b[0mI\u001b[0m\u001b[1;33m)\u001b[0m\u001b[1;33m)\u001b[0m\u001b[1;33m\u001b[0m\u001b[0m\n\u001b[1;32m      7\u001b[0m \u001b[0mprint\u001b[0m\u001b[1;33m(\u001b[0m\u001b[0mnext\u001b[0m\u001b[1;33m(\u001b[0m\u001b[0mI\u001b[0m\u001b[1;33m)\u001b[0m\u001b[1;33m)\u001b[0m\u001b[1;33m\u001b[0m\u001b[0m\n\u001b[0;32m----> 8\u001b[0;31m \u001b[0mprint\u001b[0m\u001b[1;33m(\u001b[0m\u001b[0mnext\u001b[0m\u001b[1;33m(\u001b[0m\u001b[0mI\u001b[0m\u001b[1;33m)\u001b[0m\u001b[1;33m)\u001b[0m\u001b[1;33m\u001b[0m\u001b[0m\n\u001b[0m",
      "\u001b[0;31mStopIteration\u001b[0m: "
     ]
    }
   ],
   "source": [
    "#On range of numbers\n",
    "R = range(3)\n",
    "#print(R)\n",
    "I = iter(R)  # Use iteration protocol to produce results\n",
    "print(next(I))\n",
    "print(next(I))\n",
    "print(next(I))\n",
    "print(next(I))"
   ]
  },
  {
   "cell_type": "code",
   "execution_count": 15,
   "metadata": {},
   "outputs": [
    {
     "name": "stdout",
     "output_type": "stream",
     "text": [
      "(0, 's')\n",
      "(1, 'p')\n",
      "(2, 'a')\n",
      "(3, 'm')\n"
     ]
    }
   ],
   "source": [
    "E = enumerate('spam')  # enumerate is an iterable too\n",
    "I = iter(E)\n",
    "print(next(I)) \n",
    "print(next(I)) \n",
    "print(next(I))\n",
    "print(next(I))"
   ]
  },
  {
   "cell_type": "code",
   "execution_count": 16,
   "metadata": {},
   "outputs": [
    {
     "name": "stdout",
     "output_type": "stream",
     "text": [
      "<zip object at 0x00AD4300>\n",
      "(1, 10)\n",
      "(2, 11)\n",
      "(3, 12)\n"
     ]
    }
   ],
   "source": [
    "Z = zip((1, 2, 3), (10, 11, 12))\n",
    "print(Z)\n",
    "I1 = iter(Z)\n",
    "I2 = iter(Z)  # Two iterators on one zip\n",
    "print(next(I1))\n",
    "print(next(I1))\n",
    "print(next(I2))  # I2 is at same spot as I1!"
   ]
  },
  {
   "cell_type": "markdown",
   "metadata": {},
   "source": [
    "### String Formatting"
   ]
  },
  {
   "cell_type": "code",
   "execution_count": null,
   "metadata": {
    "collapsed": true
   },
   "outputs": [],
   "source": []
  },
  {
   "cell_type": "code",
   "execution_count": null,
   "metadata": {
    "collapsed": true
   },
   "outputs": [],
   "source": []
  }
 ],
 "metadata": {
  "kernelspec": {
   "display_name": "Python 3",
   "language": "python",
   "name": "python3"
  },
  "language_info": {
   "codemirror_mode": {
    "name": "ipython",
    "version": 3
   },
   "file_extension": ".py",
   "mimetype": "text/x-python",
   "name": "python",
   "nbconvert_exporter": "python",
   "pygments_lexer": "ipython3",
   "version": "3.7.3"
  }
 },
 "nbformat": 4,
 "nbformat_minor": 1
}
